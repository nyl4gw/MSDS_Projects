{
 "cells": [
  {
   "cell_type": "markdown",
   "metadata": {},
   "source": [
    "### DS5110 Project\n",
    "### Group 5: Predicting Stock v. Cryptocurrency with Market Data\n",
    "### Group Members: Cecile Johnson (hyj5qz), Nick Landi (nyl4gw), Elizabeth Lee (ewl3dv)\n",
    "---"
   ]
  },
  {
   "cell_type": "markdown",
   "metadata": {},
   "source": [
    "### Data Import and Preprocessing"
   ]
  },
  {
   "cell_type": "code",
   "execution_count": 2,
   "metadata": {},
   "outputs": [],
   "source": [
    "# load modules\n",
    "from pyspark.sql import SparkSession\n",
    "from pyspark.mllib.classification import LogisticRegressionWithLBFGS, LogisticRegressionModel\n",
    "from pyspark.mllib.regression import LabeledPoint\n",
    "from pyspark.ml.feature import VectorAssembler \n",
    "from pyspark.mllib.linalg import Vectors\n",
    "from pyspark.mllib.evaluation import MulticlassMetrics\n",
    "from pyspark.ml import Pipeline  \n",
    "from pyspark.ml.evaluation import BinaryClassificationEvaluator\n",
    "from pyspark.ml.classification import LogisticRegression\n",
    "from pyspark.ml.tuning import ParamGridBuilder, CrossValidator\n",
    "\n",
    "\n",
    "from pyspark.ml.feature import StandardScaler\n",
    "\n",
    "import os\n",
    "\n",
    "from pyspark.sql.types import StructType, StructField, StringType, IntegerType, FloatType, DateType\n",
    "\n",
    "from pyspark.sql.functions import *\n",
    "\n",
    "from pyspark.sql import functions as F\n",
    "\n",
    "import pandas as pd\n",
    "import numpy as np"
   ]
  },
  {
   "cell_type": "code",
   "execution_count": 3,
   "metadata": {},
   "outputs": [],
   "source": [
    "from pyspark.sql import SparkSession\n",
    "\n",
    "spark = SparkSession.builder \\\n",
    "        .master(\"local\") \\\n",
    "        .appName(\"pspark_test\") \\\n",
    "        .getOrCreate()"
   ]
  },
  {
   "cell_type": "code",
   "execution_count": 5,
   "metadata": {},
   "outputs": [],
   "source": [
    "sc = spark.sparkContext"
   ]
  },
  {
   "cell_type": "code",
   "execution_count": 6,
   "metadata": {},
   "outputs": [],
   "source": [
    "os.chdir('/project/ds5559/group5_NL_EL_CJ')"
   ]
  },
  {
   "cell_type": "code",
   "execution_count": 7,
   "metadata": {},
   "outputs": [],
   "source": [
    "# Setting Schema for crypto\n",
    "crypto_schema = StructType([StructField('Date', DateType(), False), \n",
    "                            StructField('Open', FloatType(), False),\n",
    "                            StructField('High', FloatType(), False),\n",
    "                            StructField('Low', FloatType(), False),\n",
    "                            StructField('Close', FloatType(), False),\n",
    "                            StructField('Adj Close', FloatType(), False),\n",
    "                            StructField('Volume', FloatType(), False)])"
   ]
  },
  {
   "cell_type": "code",
   "execution_count": 8,
   "metadata": {},
   "outputs": [],
   "source": [
    "ETH_df = spark.read.csv('/project/ds5559/group5_NL_EL_CJ/ETH-USD-2.csv', inferSchema=False, header = True, schema=crypto_schema)\n",
    "DOGE_df = spark.read.csv('/project/ds5559/group5_NL_EL_CJ/DOGE-USD-2.csv', inferSchema=False, header = True, schema=crypto_schema)\n",
    "BTC_df = spark.read.csv('/project/ds5559/group5_NL_EL_CJ/BTC-USD-2.csv', inferSchema=False, header = True, schema=crypto_schema)"
   ]
  },
  {
   "cell_type": "code",
   "execution_count": 9,
   "metadata": {},
   "outputs": [],
   "source": [
    "PFE_df = spark.read.csv('/project/ds5559/group5_NL_EL_CJ/PFE.csv', inferSchema=True, header = True)\n",
    "SBUX_df = spark.read.csv('/project/ds5559/group5_NL_EL_CJ/SBUX.csv', inferSchema=True, header = True)\n",
    "TSLA_df = spark.read.csv('/project/ds5559/group5_NL_EL_CJ/TSLA.csv', inferSchema=True, header = True)"
   ]
  },
  {
   "cell_type": "code",
   "execution_count": 10,
   "metadata": {},
   "outputs": [
    {
     "name": "stdout",
     "output_type": "stream",
     "text": [
      "+----------+---------+---------+---------+---------+---------+-----------+\n",
      "|      Date|     Open|     High|      Low|    Close|Adj Close|     Volume|\n",
      "+----------+---------+---------+---------+---------+---------+-----------+\n",
      "|2020-06-16| 31.86907|32.220116|31.043644|31.688805| 29.66744|5.5616944E7|\n",
      "|2020-06-17| 31.86907| 32.03985|31.612904|31.840607|29.809555|2.7509822E7|\n",
      "|2020-06-18|31.565466|31.755219|31.290323|31.537003| 29.52532|3.2278856E7|\n",
      "|2020-06-19|31.963947|32.011387| 31.42315| 31.70778|29.685204|4.3986264E7|\n",
      "|2020-06-22| 31.62239|31.650854| 31.22391|31.413662|29.409847|2.3332504E7|\n",
      "+----------+---------+---------+---------+---------+---------+-----------+\n",
      "only showing top 5 rows\n",
      "\n",
      "root\n",
      " |-- Date: date (nullable = true)\n",
      " |-- Open: float (nullable = true)\n",
      " |-- High: float (nullable = true)\n",
      " |-- Low: float (nullable = true)\n",
      " |-- Close: float (nullable = true)\n",
      " |-- Adj Close: float (nullable = true)\n",
      " |-- Volume: float (nullable = true)\n",
      "\n"
     ]
    }
   ],
   "source": [
    "# PFE schema\n",
    "PFE_df = PFE_df.withColumn('Date', F.to_date(F.col('Date'),\"yyyy-MM-dd\"))\n",
    "PFE_df = PFE_df.withColumn('Open', F.col('Open').cast('float'))\n",
    "PFE_df = PFE_df.withColumn('High', F.col('High').cast('float'))\n",
    "PFE_df = PFE_df.withColumn('Low', F.col('Low').cast('float'))\n",
    "PFE_df = PFE_df.withColumn('Close', F.col('Close').cast('float'))\n",
    "PFE_df = PFE_df.withColumn('Adj Close', F.col('Adj Close').cast('float'))\n",
    "PFE_df = PFE_df.withColumn('Volume', F.col('Volume').cast('float'))\n",
    "\n",
    "PFE_df.show(5)\n",
    "PFE_df.printSchema()"
   ]
  },
  {
   "cell_type": "code",
   "execution_count": 11,
   "metadata": {},
   "outputs": [
    {
     "name": "stdout",
     "output_type": "stream",
     "text": [
      "+----------+-----+-----+-----+-----+---------+---------+\n",
      "|      Date| Open| High|  Low|Close|Adj Close|   Volume|\n",
      "+----------+-----+-----+-----+-----+---------+---------+\n",
      "|2020-06-16|78.79|78.94|76.39|77.84| 75.42003|1.08901E7|\n",
      "|2020-06-17|78.07|78.29|76.68| 77.1| 74.70303|6906700.0|\n",
      "|2020-06-18|76.72|76.79| 75.8|76.31| 73.93759|8486000.0|\n",
      "|2020-06-19|77.03|77.38|74.88| 75.4| 73.05588|1.25386E7|\n",
      "|2020-06-22| 74.9|75.65|73.92| 75.4| 73.05588|8238600.0|\n",
      "+----------+-----+-----+-----+-----+---------+---------+\n",
      "only showing top 5 rows\n",
      "\n",
      "root\n",
      " |-- Date: date (nullable = true)\n",
      " |-- Open: float (nullable = true)\n",
      " |-- High: float (nullable = true)\n",
      " |-- Low: float (nullable = true)\n",
      " |-- Close: float (nullable = true)\n",
      " |-- Adj Close: float (nullable = true)\n",
      " |-- Volume: float (nullable = true)\n",
      "\n"
     ]
    }
   ],
   "source": [
    "#SBUX_df\n",
    "SBUX_df = SBUX_df.withColumn('Date', F.to_date(F.col('Date'),\"yyyy-MM-dd\"))\n",
    "SBUX_df = SBUX_df.withColumn('Open', F.col('Open').cast('float'))\n",
    "SBUX_df = SBUX_df.withColumn('High', F.col('High').cast('float'))\n",
    "SBUX_df = SBUX_df.withColumn('Low', F.col('Low').cast('float'))\n",
    "SBUX_df = SBUX_df.withColumn('Close', F.col('Close').cast('float'))\n",
    "SBUX_df = SBUX_df.withColumn('Adj Close', F.col('Adj Close').cast('float'))\n",
    "SBUX_df = SBUX_df.withColumn('Volume', F.col('Volume').cast('float'))\n",
    "\n",
    "SBUX_df.show(5)\n",
    "SBUX_df.printSchema()"
   ]
  },
  {
   "cell_type": "code",
   "execution_count": 12,
   "metadata": {},
   "outputs": [
    {
     "name": "stdout",
     "output_type": "stream",
     "text": [
      "+----------+-------+-------+-------+-------+---------+-----------+\n",
      "|      Date|   Open|   High|    Low|  Close|Adj Close|     Volume|\n",
      "+----------+-------+-------+-------+-------+---------+-----------+\n",
      "|2020-06-16| 202.37|202.576|192.478|196.426|  196.426|7.0255504E7|\n",
      "|2020-06-17|197.542|  201.0|196.514|198.358|  198.358|   4.9454E7|\n",
      "|2020-06-18|  200.6| 203.84|198.894|200.792|  200.792|  4.87595E7|\n",
      "|2020-06-19|202.556|203.194|198.268| 200.18|   200.18|  4.33985E7|\n",
      "|2020-06-22| 199.99|201.776|198.004|198.864|  198.864|   3.1812E7|\n",
      "+----------+-------+-------+-------+-------+---------+-----------+\n",
      "only showing top 5 rows\n",
      "\n",
      "root\n",
      " |-- Date: date (nullable = true)\n",
      " |-- Open: float (nullable = true)\n",
      " |-- High: float (nullable = true)\n",
      " |-- Low: float (nullable = true)\n",
      " |-- Close: float (nullable = true)\n",
      " |-- Adj Close: float (nullable = true)\n",
      " |-- Volume: float (nullable = true)\n",
      "\n"
     ]
    }
   ],
   "source": [
    "#TSLA_df (tesla)\n",
    "TSLA_df = TSLA_df.withColumn('Date', F.to_date(F.col('Date'),\"yyyy-MM-dd\"))\n",
    "TSLA_df = TSLA_df.withColumn('Open', F.col('Open').cast('float'))\n",
    "TSLA_df = TSLA_df.withColumn('High', F.col('High').cast('float'))\n",
    "TSLA_df = TSLA_df.withColumn('Low', F.col('Low').cast('float'))\n",
    "TSLA_df = TSLA_df.withColumn('Close', F.col('Close').cast('float'))\n",
    "TSLA_df = TSLA_df.withColumn('Adj Close', F.col('Adj Close').cast('float'))\n",
    "TSLA_df = TSLA_df.withColumn('Volume', F.col('Volume').cast('float'))\n",
    "\n",
    "TSLA_df.show(5)\n",
    "TSLA_df.printSchema()"
   ]
  },
  {
   "cell_type": "code",
   "execution_count": 13,
   "metadata": {},
   "outputs": [],
   "source": [
    "# Adding a indicator column to differentiate between crypto currencies (1) and stocks (0)\n",
    "ETH_df = ETH_df.withColumn(\"Currency_Type\", lit(1))\n",
    "DOGE_df = DOGE_df.withColumn(\"Currency_Type\", lit(1))\n",
    "BTC_df = BTC_df.withColumn(\"Currency_Type\", lit(1))\n",
    "PFE_df = PFE_df.withColumn(\"Currency_Type\", lit(0))\n",
    "SBUX_df = SBUX_df.withColumn(\"Currency_Type\", lit(0))\n",
    "TSLA_df = TSLA_df.withColumn(\"Currency_Type\", lit(0))"
   ]
  },
  {
   "cell_type": "code",
   "execution_count": 14,
   "metadata": {},
   "outputs": [],
   "source": [
    "# Adding a indicator column to differentiate between unique crypto and stocks \n",
    "ETH_df = ETH_df.withColumn(\"Currency_Name\", lit(\"ETC\"))\n",
    "DOGE_df = DOGE_df.withColumn(\"Currency_Name\", lit(\"DOGE\"))\n",
    "BTC_df = BTC_df.withColumn(\"Currency_Name\", lit(\"BTC\"))\n",
    "PFE_df = PFE_df.withColumn(\"Currency_Name\", lit(\"PFE\"))\n",
    "SBUX_df = SBUX_df.withColumn(\"Currency_Name\", lit(\"SBUX\"))\n",
    "TSLA_df = TSLA_df.withColumn(\"Currency_Name\", lit(\"TSLA\"))"
   ]
  },
  {
   "cell_type": "markdown",
   "metadata": {},
   "source": [
    "#### Adding Percentage Change Features"
   ]
  },
  {
   "cell_type": "code",
   "execution_count": 18,
   "metadata": {},
   "outputs": [],
   "source": [
    "from pyspark.sql import functions as F\n",
    "from pyspark.sql.window import Window\n",
    "\n",
    "#Open\n",
    "price_window = Window.partitionBy(\"Currency_Name\").orderBy(\"Currency_Name\")\n",
    "combined_df = combined_df.withColumn(\"prev_value_open\", F.lag(combined_df.Open).over(price_window))\n",
    "combined_df = combined_df.withColumn(\"perc_diff_open\", F.when(F.isnull((combined_df.Open - combined_df.prev_value_open)/combined_df.prev_value_open), 0).otherwise((combined_df.Open - combined_df.prev_value_open)/combined_df.prev_value_open))"
   ]
  },
  {
   "cell_type": "code",
   "execution_count": 19,
   "metadata": {},
   "outputs": [],
   "source": [
    "#Close\n",
    "price_window = Window.partitionBy(\"Currency_Name\").orderBy(\"Currency_Name\")\n",
    "combined_df = combined_df.withColumn(\"prev_value_close\", F.lag(combined_df.Close).over(price_window))\n",
    "combined_df = combined_df.withColumn(\"perc_diff_close\", F.when(F.isnull((combined_df.Close - combined_df.prev_value_close)/combined_df.prev_value_close), 0).otherwise((combined_df.Close - combined_df.prev_value_close)/combined_df.prev_value_close))"
   ]
  },
  {
   "cell_type": "code",
   "execution_count": 20,
   "metadata": {},
   "outputs": [],
   "source": [
    "#High\n",
    "price_window = Window.partitionBy(\"Currency_Name\").orderBy(\"Currency_Name\")\n",
    "combined_df = combined_df.withColumn(\"prev_value_high\", F.lag(combined_df.High).over(price_window))\n",
    "combined_df = combined_df.withColumn(\"perc_diff_high\", F.when(F.isnull((combined_df.High - combined_df.prev_value_high)/combined_df.prev_value_high), 0).otherwise((combined_df.High - combined_df.prev_value_high)/combined_df.prev_value_high))"
   ]
  },
  {
   "cell_type": "code",
   "execution_count": 21,
   "metadata": {},
   "outputs": [],
   "source": [
    "#Low\n",
    "price_window = Window.partitionBy(\"Currency_Name\").orderBy(\"Currency_Name\")\n",
    "combined_df = combined_df.withColumn(\"prev_value_low\", F.lag(combined_df.Low).over(price_window))\n",
    "combined_df = combined_df.withColumn(\"perc_diff_low\", F.when(F.isnull((combined_df.Low - combined_df.prev_value_low)/combined_df.prev_value_low), 0).otherwise((combined_df.Low - combined_df.prev_value_low)/combined_df.prev_value_low))"
   ]
  },
  {
   "cell_type": "code",
   "execution_count": 22,
   "metadata": {},
   "outputs": [],
   "source": [
    "#Adj Close\n",
    "price_window = Window.partitionBy(\"Currency_Name\").orderBy(\"Currency_Name\")\n",
    "combined_df = combined_df.withColumn(\"prev_value_adjclose\", F.lag(combined_df['Adj Close']).over(price_window))\n",
    "combined_df = combined_df.withColumn(\"perc_diff_adjclose\", F.when(F.isnull((combined_df['Adj Close'] - combined_df.prev_value_adjclose)/combined_df.prev_value_adjclose), 0).otherwise((combined_df['Adj Close'] - combined_df.prev_value_adjclose)/combined_df.prev_value_adjclose))"
   ]
  },
  {
   "cell_type": "code",
   "execution_count": 23,
   "metadata": {},
   "outputs": [],
   "source": [
    "#Volume\n",
    "price_window = Window.partitionBy(\"Currency_Name\").orderBy(\"Currency_Name\")\n",
    "combined_df = combined_df.withColumn(\"prev_value_volume\", F.lag(combined_df.Volume).over(price_window))\n",
    "combined_df = combined_df.withColumn(\"perc_diff_volume\", F.when(F.isnull((combined_df.Volume - combined_df.prev_value_volume)/combined_df.prev_value_volume), 0).otherwise((combined_df.Volume - combined_df.prev_value_volume)/combined_df.prev_value_volume))"
   ]
  },
  {
   "cell_type": "code",
   "execution_count": 24,
   "metadata": {},
   "outputs": [
    {
     "name": "stdout",
     "output_type": "stream",
     "text": [
      "+----------+-------+-------+-------+-------+---------+-----------+-------------+-------------+---------------+--------------------+----------------+--------------------+---------------+--------------------+--------------+--------------------+-------------------+--------------------+-----------------+--------------------+\n",
      "|      Date|   Open|   High|    Low|  Close|Adj Close|     Volume|Currency_Type|Currency_Name|prev_value_open|      perc_diff_open|prev_value_close|     perc_diff_close|prev_value_high|      perc_diff_high|prev_value_low|       perc_diff_low|prev_value_adjclose|  perc_diff_adjclose|prev_value_volume|    perc_diff_volume|\n",
      "+----------+-------+-------+-------+-------+---------+-----------+-------------+-------------+---------------+--------------------+----------------+--------------------+---------------+--------------------+--------------+--------------------+-------------------+--------------------+-----------------+--------------------+\n",
      "|2020-06-16| 202.37|202.576|192.478|196.426|  196.426|7.0255504E7|            0|         TSLA|           null|                 0.0|            null|                 0.0|           null|                 0.0|          null|                 0.0|               null|                 0.0|             null|                 0.0|\n",
      "|2020-06-17|197.542|  201.0|196.514|198.358|  198.358|   4.9454E7|            0|         TSLA|         202.37|-0.02385723075252667|         196.426|0.009835800181061501|        202.576|-0.00777981595539...|       192.478|0.020968686336820346|            196.426|0.009835800181061501|      7.0255504E7| -0.2960836207224419|\n",
      "|2020-06-18|  200.6| 203.84|198.894|200.792|  200.792|  4.87595E7|            0|         TSLA|        197.542|0.015480244919845825|         198.358|0.012270771616643293|          201.0|0.014129335014381218|       196.514|0.012111043143810164|            198.358|0.012270771616643293|         4.9454E7|-0.01404335341933...|\n",
      "|2020-06-19|202.556|203.194|198.268| 200.18|   200.18|  4.33985E7|            0|         TSLA|          200.6|0.009750715816700417|         200.792|-0.00304800364462...|         203.84|-0.00316913316991...|       198.894|-0.00314736407395...|            200.792|-0.00304800364462...|        4.87595E7|-0.10994780504311981|\n",
      "|2020-06-22| 199.99|201.776|198.004|198.864|  198.864|   3.1812E7|            0|         TSLA|        202.556|-0.01266807335150...|          200.18|-0.00657405490481...|        203.194|-0.00697854890338...|       198.268|-0.00133156919526...|             200.18|-0.00657405490481...|        4.33985E7| -0.2669792734771939|\n",
      "|2020-06-23|199.776|  202.4|198.802|200.356|  200.356|  3.18265E7|            0|         TSLA|         199.99|-0.00107007605742...|         198.864|0.007502637010405554|        201.776|0.003092503156479722|       198.004| 0.00403024261755388|            198.864|0.007502637010405554|         3.1812E7|4.558028416949578...|\n",
      "|2020-06-24|198.822|200.176|190.628| 192.17|   192.17|   5.4798E7|            0|         TSLA|        199.776|-0.00477532209230...|         200.356|-0.04085729663179653|          202.4|-0.01098813779893...|       198.802|-0.04111626588955...|            200.356|-0.04085729663179653|        3.18265E7|  0.7217727365560146|\n",
      "|2020-06-25|190.854|197.196| 187.43|197.196|  197.196|  4.62725E7|            0|         TSLA|        198.822|-0.04007605833277501|          192.17|0.026153931542133416|        200.176|-0.01488687856617...|       190.628|-0.01677619869755832|             192.17|0.026153931542133416|         5.4798E7|-0.15558049563852697|\n",
      "|2020-06-26|198.956|  199.0|190.974|191.948|  191.948|  4.42745E7|            0|         TSLA|        190.854| 0.04245124325541294|         197.196|-0.02661312157129...|        197.196| 0.00914826295822079|        187.43|0.018908427072217394|            197.196|-0.02661312157129...|        4.62725E7| -0.0431789940029175|\n",
      "|2020-06-29|193.802|  202.0|189.704| 201.87|   201.87|   4.5132E7|            0|         TSLA|        198.956|-0.02590518438074728|         191.948|0.051691068264694696|          199.0| 0.01507537688442211|       190.974|-0.00665014231756...|            191.948|0.051691068264694696|        4.42745E7|0.019367807654518968|\n",
      "+----------+-------+-------+-------+-------+---------+-----------+-------------+-------------+---------------+--------------------+----------------+--------------------+---------------+--------------------+--------------+--------------------+-------------------+--------------------+-----------------+--------------------+\n",
      "only showing top 10 rows\n",
      "\n"
     ]
    }
   ],
   "source": [
    "combined_df.show(10)"
   ]
  },
  {
   "cell_type": "code",
   "execution_count": 25,
   "metadata": {},
   "outputs": [
    {
     "name": "stdout",
     "output_type": "stream",
     "text": [
      "root\n",
      " |-- Date: date (nullable = true)\n",
      " |-- Open: float (nullable = true)\n",
      " |-- High: float (nullable = true)\n",
      " |-- Low: float (nullable = true)\n",
      " |-- Close: float (nullable = true)\n",
      " |-- Adj Close: float (nullable = true)\n",
      " |-- Volume: float (nullable = true)\n",
      " |-- Currency_Type: integer (nullable = false)\n",
      " |-- Currency_Name: string (nullable = false)\n",
      " |-- prev_value_open: float (nullable = true)\n",
      " |-- perc_diff_open: double (nullable = true)\n",
      " |-- prev_value_close: float (nullable = true)\n",
      " |-- perc_diff_close: double (nullable = true)\n",
      " |-- prev_value_high: float (nullable = true)\n",
      " |-- perc_diff_high: double (nullable = true)\n",
      " |-- prev_value_low: float (nullable = true)\n",
      " |-- perc_diff_low: double (nullable = true)\n",
      " |-- prev_value_adjclose: float (nullable = true)\n",
      " |-- perc_diff_adjclose: double (nullable = true)\n",
      " |-- prev_value_volume: float (nullable = true)\n",
      " |-- perc_diff_volume: double (nullable = true)\n",
      "\n"
     ]
    }
   ],
   "source": [
    "combined_df.printSchema()"
   ]
  },
  {
   "cell_type": "markdown",
   "metadata": {},
   "source": [
    "#### Comments about our data in this format:\n",
    "This dataframe is currently by rows of dates with an indicator of which stock/data the row of data belongs to. It might be interesting to tranpose this column to create columns of dates like in our module 5 classification homework.\n",
    "\n",
    "We could also perform some feature engineering and add variables such as change in opening and closing price. Another interesting variable could be the the percentage change of price between days. "
   ]
  },
  {
   "cell_type": "markdown",
   "metadata": {},
   "source": [
    "### Exploratory Data Analysis"
   ]
  },
  {
   "cell_type": "markdown",
   "metadata": {},
   "source": [
    "#### Number of Columns"
   ]
  },
  {
   "cell_type": "code",
   "execution_count": 15,
   "metadata": {},
   "outputs": [
    {
     "name": "stdout",
     "output_type": "stream",
     "text": [
      "number of observations in our dataset: 1857\n"
     ]
    }
   ],
   "source": [
    "combined_df = ETH_df.union(DOGE_df)\n",
    "combined_df = combined_df.union(BTC_df)\n",
    "combined_df = combined_df.union(PFE_df)\n",
    "combined_df = combined_df.union(SBUX_df)\n",
    "combined_df = combined_df.union(TSLA_df)\n",
    "\n",
    "print(\"number of observations in our dataset:\", combined_df.count())"
   ]
  },
  {
   "cell_type": "markdown",
   "metadata": {},
   "source": [
    "#### Number of Records"
   ]
  },
  {
   "cell_type": "code",
   "execution_count": 28,
   "metadata": {},
   "outputs": [
    {
     "name": "stdout",
     "output_type": "stream",
     "text": [
      "number of columns in our dataset: 21\n"
     ]
    }
   ],
   "source": [
    "print(\"number of columns in our dataset:\", len(combined_df.columns))"
   ]
  },
  {
   "cell_type": "markdown",
   "metadata": {},
   "source": [
    "#### Statistical Summary of Response "
   ]
  },
  {
   "cell_type": "code",
   "execution_count": 29,
   "metadata": {},
   "outputs": [
    {
     "name": "stdout",
     "output_type": "stream",
     "text": [
      "observations that are crypto: 1098\n",
      "observations that are stock: 759\n"
     ]
    }
   ],
   "source": [
    "print(\"observations that are crypto:\", combined_df.filter(combined_df.Currency_Type == 1).count())\n",
    "\n",
    "print(\"observations that are stock:\", combined_df.filter(combined_df.Currency_Type == 0).count())"
   ]
  },
  {
   "cell_type": "code",
   "execution_count": 30,
   "metadata": {},
   "outputs": [
    {
     "name": "stdout",
     "output_type": "stream",
     "text": [
      "percent observations that are crypto: 0.5912762520193862\n",
      "percent observations that are stock: 0.4087237479806139\n"
     ]
    }
   ],
   "source": [
    "print(\"percent observations that are crypto:\", combined_df.filter(combined_df.Currency_Type == 1).count()/combined_df.count())\n",
    "\n",
    "print(\"percent observations that are stock:\", combined_df.filter(combined_df.Currency_Type == 0).count()/combined_df.count())"
   ]
  },
  {
   "cell_type": "code",
   "execution_count": 31,
   "metadata": {},
   "outputs": [
    {
     "name": "stdout",
     "output_type": "stream",
     "text": [
      "+-------------+-----+\n",
      "|Currency_Name|count|\n",
      "+-------------+-----+\n",
      "|         TSLA|  253|\n",
      "|         DOGE|  366|\n",
      "|          PFE|  253|\n",
      "|          ETC|  366|\n",
      "|         SBUX|  253|\n",
      "|          BTC|  366|\n",
      "+-------------+-----+\n",
      "\n"
     ]
    }
   ],
   "source": [
    "combined_df.groupBy(\"Currency_Name\").count().show()"
   ]
  },
  {
   "cell_type": "markdown",
   "metadata": {},
   "source": [
    "#### Statistical Summary of Predictors (before standardization)\n",
    "\n",
    "The summaries are largely volatile in scale due to the differences in price of different cryptos/stock. It might be more valuable to filter by currency type to see a summary by different stocks. "
   ]
  },
  {
   "cell_type": "code",
   "execution_count": 32,
   "metadata": {},
   "outputs": [
    {
     "name": "stdout",
     "output_type": "stream",
     "text": [
      "+-------+------------------+------------------+------------------+------------------+------------------+--------------------+\n",
      "|summary|              Open|              High|               Low|             Close|         Adj Close|              Volume|\n",
      "+-------+------------------+------------------+------------------+------------------+------------------+--------------------+\n",
      "|  count|              1848|              1848|              1848|              1848|              1848|                1848|\n",
      "|   mean| 5968.277307385294| 6153.698836892339|  5761.72968719551| 5983.977690323091|  5983.47541806089|1.384415355731223E10|\n",
      "| stddev|13889.320155668318|14323.161112251377|13385.665708966448|13907.099612911665|13907.313362381974|2.225153997966592E10|\n",
      "|    min|          0.002307|          0.002327|          0.002277|          0.002309|          0.002309|           1949200.0|\n",
      "|    25%|             35.48|         35.882355|         35.132828|         35.512333|          33.78196|           2.90399E7|\n",
      "|    50%|             279.2|             284.0|         269.23978|           277.972|           277.972|          1.545264E8|\n",
      "|    75%|         1783.4891|          1837.188|         1720.0532|          1788.217|          1788.217|       2.27203645E10|\n",
      "|    max|         63523.754|         64863.098|         62208.965|         63503.457|         63503.457|       3.50967955E11|\n",
      "+-------+------------------+------------------+------------------+------------------+------------------+--------------------+\n",
      "\n"
     ]
    }
   ],
   "source": [
    "combined_df.select(\"Open\", \"High\", \"Low\", \"Close\", \"Adj Close\", \"Volume\").summary().show()"
   ]
  },
  {
   "cell_type": "markdown",
   "metadata": {},
   "source": [
    "#### EDA Graphs"
   ]
  },
  {
   "cell_type": "code",
   "execution_count": 31,
   "metadata": {},
   "outputs": [],
   "source": [
    "import seaborn as sns\n",
    "import matplotlib.pyplot as plt"
   ]
  },
  {
   "cell_type": "code",
   "execution_count": 32,
   "metadata": {},
   "outputs": [
    {
     "data": {
      "image/png": "[encoded data removed]",
      "text/plain": [
       "<Figure size 640x480 with 1 Axes>"
      ]
     },
     "metadata": {},
     "output_type": "display_data"
    }
   ],
   "source": [
    "countdf = combined_df.groupBy(\"Currency_Type\").count()\n",
    "\n",
    "pandas_df = countdf.toPandas()\n",
    "pandas_df\n",
    "\n",
    "sns.set_theme(style=\"whitegrid\")\n",
    "ax = sns.barplot(x=\"Currency_Type\", y=\"count\", data=pandas_df) #1 is crypto, 0 is stock\n",
    "plt.title(\"Distribution of Currency Type\")\n",
    "plt.show()"
   ]
  },
  {
   "cell_type": "markdown",
   "metadata": {},
   "source": [
    "#### Note about graphs\n",
    "\n",
    "We have no scaled any of the features yet, so the volume and prices vary greatly depending on the type of currency. "
   ]
  },
  {
   "cell_type": "code",
   "execution_count": 33,
   "metadata": {},
   "outputs": [
    {
     "data": {
      "image/png": "[encoded data removed]",
      "text/plain": [
       "<Figure size 640x480 with 1 Axes>"
      ]
     },
     "metadata": {},
     "output_type": "display_data"
    }
   ],
   "source": [
    "# Opening prices by each type \n",
    "df = combined_df.toPandas()\n",
    "\n",
    "#define index column\n",
    "df.set_index('Date', inplace=True)\n",
    "#group data by product and display sales as line chart\n",
    "df.groupby('Currency_Name')['Open'].plot(legend=True)\n",
    "plt.title(\"Opening prices by Currency\")\n",
    "plt.show()"
   ]
  },
  {
   "cell_type": "code",
   "execution_count": 34,
   "metadata": {},
   "outputs": [
    {
     "data": {
      "image/png": "[encoded data removed]",
      "text/plain": [
       "<Figure size 640x480 with 1 Axes>"
      ]
     },
     "metadata": {},
     "output_type": "display_data"
    }
   ],
   "source": [
    "df = combined_df.toPandas()\n",
    "\n",
    "#define index column\n",
    "df.set_index('Date', inplace=True)\n",
    "#group data by product and display sales as line chart\n",
    "df.groupby('Currency_Name')['Close'].plot(legend=True)\n",
    "plt.title(\"Closing prices by Currency\")\n",
    "plt.show()"
   ]
  },
  {
   "cell_type": "code",
   "execution_count": 35,
   "metadata": {},
   "outputs": [
    {
     "data": {
      "image/png": "[encoded data removed]",
      "text/plain": [
       "<Figure size 640x480 with 1 Axes>"
      ]
     },
     "metadata": {},
     "output_type": "display_data"
    }
   ],
   "source": [
    "df = combined_df.toPandas()\n",
    "\n",
    "#define index column\n",
    "df.set_index('Date', inplace=True)\n",
    "#group data by product and display sales as line chart\n",
    "df.groupby('Currency_Name')['Adj Close'].plot(legend=True)\n",
    "plt.title(\"Adjusted Closing prices by Currency\")\n",
    "plt.show()"
   ]
  },
  {
   "cell_type": "code",
   "execution_count": 36,
   "metadata": {},
   "outputs": [
    {
     "data": {
      "image/png": "[encoded data removed]",
      "text/plain": [
       "<Figure size 640x480 with 1 Axes>"
      ]
     },
     "metadata": {},
     "output_type": "display_data"
    }
   ],
   "source": [
    "df = combined_df.toPandas()\n",
    "\n",
    "#define index column\n",
    "df.set_index('Date', inplace=True)\n",
    "#group data by product and display sales as line chart\n",
    "df.groupby('Currency_Name')['Volume'].plot(legend=True)\n",
    "plt.title(\"Volume Traded by Currency\")\n",
    "plt.show()"
   ]
  },
  {
   "cell_type": "markdown",
   "metadata": {},
   "source": [
    "#### Percentage Change Features"
   ]
  },
  {
   "cell_type": "code",
   "execution_count": 37,
   "metadata": {},
   "outputs": [
    {
     "data": {
      "image/png": "[encoded data removed]",
      "text/plain": [
       "<Figure size 640x480 with 1 Axes>"
      ]
     },
     "metadata": {},
     "output_type": "display_data"
    }
   ],
   "source": [
    "#percentage change in volume plot\n",
    "df = combined_df.toPandas()\n",
    "\n",
    "#define index column\n",
    "df.set_index('Date', inplace=True)\n",
    "#group data by product and display sales as line chart\n",
    "df.groupby('Currency_Name')['perc_diff_volume'].plot(legend=True)\n",
    "plt.title(\"Percentage Change in Volume by Currency\")\n",
    "plt.show()"
   ]
  },
  {
   "cell_type": "code",
   "execution_count": 38,
   "metadata": {},
   "outputs": [
    {
     "data": {
      "image/png": "[encoded data removed]",
      "text/plain": [
       "<Figure size 640x480 with 1 Axes>"
      ]
     },
     "metadata": {},
     "output_type": "display_data"
    }
   ],
   "source": [
    "#percentage change in adju close plot\n",
    "df = combined_df.toPandas()\n",
    "\n",
    "#define index column\n",
    "df.set_index('Date', inplace=True)\n",
    "#group data by product and display sales as line chart\n",
    "df.groupby('Currency_Name')['perc_diff_adjclose'].plot(legend=True)\n",
    "plt.title(\"Percentage Change in Adjusted Close by Currency\")\n",
    "plt.show()"
   ]
  },
  {
   "cell_type": "markdown",
   "metadata": {},
   "source": [
    "### Model Construction, Data Splitting, and Model Evaluation"
   ]
  },
  {
   "cell_type": "markdown",
   "metadata": {},
   "source": [
    "We construct 3 different models to analyze our results: logistic regression, random forest, and K-means. We split the data using a seed in each model. We evaluate the models using various metrics at the end of each built model. A summarized version of the model metrics can be found in our corresponding paper. "
   ]
  },
  {
   "cell_type": "markdown",
   "metadata": {},
   "source": [
    "#### Logistic Regression"
   ]
  },
  {
   "cell_type": "code",
   "execution_count": 25,
   "metadata": {},
   "outputs": [],
   "source": [
    "from pyspark.ml.feature import VectorAssembler\n",
    "from pyspark.ml.feature import StandardScaler"
   ]
  },
  {
   "cell_type": "code",
   "execution_count": 26,
   "metadata": {},
   "outputs": [
    {
     "name": "stdout",
     "output_type": "stream",
     "text": [
      "+----------+-------+-------+-------+-------+---------+-----------+-------------+-------------+---------------+--------------------+----------------+--------------------+---------------+--------------------+--------------+--------------------+-------------------+--------------------+-----------------+--------------------+\n",
      "|      Date|   Open|   High|    Low|  Close|Adj Close|     Volume|Currency_Type|Currency_Name|prev_value_open|      perc_diff_open|prev_value_close|     perc_diff_close|prev_value_high|      perc_diff_high|prev_value_low|       perc_diff_low|prev_value_adjclose|  perc_diff_adjclose|prev_value_volume|    perc_diff_volume|\n",
      "+----------+-------+-------+-------+-------+---------+-----------+-------------+-------------+---------------+--------------------+----------------+--------------------+---------------+--------------------+--------------+--------------------+-------------------+--------------------+-----------------+--------------------+\n",
      "|2020-06-16| 202.37|202.576|192.478|196.426|  196.426|7.0255504E7|            0|         TSLA|           null|                 0.0|            null|                 0.0|           null|                 0.0|          null|                 0.0|               null|                 0.0|             null|                 0.0|\n",
      "|2020-06-17|197.542|  201.0|196.514|198.358|  198.358|   4.9454E7|            0|         TSLA|         202.37|-0.02385723075252667|         196.426|0.009835800181061501|        202.576|-0.00777981595539...|       192.478|0.020968686336820346|            196.426|0.009835800181061501|      7.0255504E7| -0.2960836207224419|\n",
      "|2020-06-18|  200.6| 203.84|198.894|200.792|  200.792|  4.87595E7|            0|         TSLA|        197.542|0.015480244919845825|         198.358|0.012270771616643293|          201.0|0.014129335014381218|       196.514|0.012111043143810164|            198.358|0.012270771616643293|         4.9454E7|-0.01404335341933...|\n",
      "|2020-06-19|202.556|203.194|198.268| 200.18|   200.18|  4.33985E7|            0|         TSLA|          200.6|0.009750715816700417|         200.792|-0.00304800364462...|         203.84|-0.00316913316991...|       198.894|-0.00314736407395...|            200.792|-0.00304800364462...|        4.87595E7|-0.10994780504311981|\n",
      "|2020-06-22| 199.99|201.776|198.004|198.864|  198.864|   3.1812E7|            0|         TSLA|        202.556|-0.01266807335150...|          200.18|-0.00657405490481...|        203.194|-0.00697854890338...|       198.268|-0.00133156919526...|             200.18|-0.00657405490481...|        4.33985E7| -0.2669792734771939|\n",
      "|2020-06-23|199.776|  202.4|198.802|200.356|  200.356|  3.18265E7|            0|         TSLA|         199.99|-0.00107007605742...|         198.864|0.007502637010405554|        201.776|0.003092503156479722|       198.004| 0.00403024261755388|            198.864|0.007502637010405554|         3.1812E7|4.558028416949578...|\n",
      "|2020-06-24|198.822|200.176|190.628| 192.17|   192.17|   5.4798E7|            0|         TSLA|        199.776|-0.00477532209230...|         200.356|-0.04085729663179653|          202.4|-0.01098813779893...|       198.802|-0.04111626588955...|            200.356|-0.04085729663179653|        3.18265E7|  0.7217727365560146|\n",
      "|2020-06-25|190.854|197.196| 187.43|197.196|  197.196|  4.62725E7|            0|         TSLA|        198.822|-0.04007605833277501|          192.17|0.026153931542133416|        200.176|-0.01488687856617...|       190.628|-0.01677619869755832|             192.17|0.026153931542133416|         5.4798E7|-0.15558049563852697|\n",
      "|2020-06-26|198.956|  199.0|190.974|191.948|  191.948|  4.42745E7|            0|         TSLA|        190.854| 0.04245124325541294|         197.196|-0.02661312157129...|        197.196| 0.00914826295822079|        187.43|0.018908427072217394|            197.196|-0.02661312157129...|        4.62725E7| -0.0431789940029175|\n",
      "|2020-06-29|193.802|  202.0|189.704| 201.87|   201.87|   4.5132E7|            0|         TSLA|        198.956|-0.02590518438074728|         191.948|0.051691068264694696|          199.0| 0.01507537688442211|       190.974|-0.00665014231756...|            191.948|0.051691068264694696|        4.42745E7|0.019367807654518968|\n",
      "+----------+-------+-------+-------+-------+---------+-----------+-------------+-------------+---------------+--------------------+----------------+--------------------+---------------+--------------------+--------------+--------------------+-------------------+--------------------+-----------------+--------------------+\n",
      "only showing top 10 rows\n",
      "\n"
     ]
    }
   ],
   "source": [
    "combined_df.show(10)"
   ]
  },
  {
   "cell_type": "code",
   "execution_count": 27,
   "metadata": {},
   "outputs": [
    {
     "data": {
      "text/plain": [
       "9"
      ]
     },
     "execution_count": 27,
     "metadata": {},
     "output_type": "execute_result"
    }
   ],
   "source": [
    "# Number of rows with null values\n",
    "combined_df.filter(combined_df.Open.isNull()).count()"
   ]
  },
  {
   "cell_type": "code",
   "execution_count": 28,
   "metadata": {},
   "outputs": [],
   "source": [
    "# removing null values (if null in one column, null across all rows)\n",
    "combined_df = combined_df.filter(combined_df.Open.isNotNull())"
   ]
  },
  {
   "cell_type": "markdown",
   "metadata": {},
   "source": [
    "Note: using the pipeline method, while working with dataframes resulted in us not being able to get evaluation metrics other than the AUROC. Thus, we implement RDDs for most of the models we build."
   ]
  },
  {
   "cell_type": "code",
   "execution_count": 29,
   "metadata": {},
   "outputs": [],
   "source": [
    "training, test = combined_df.randomSplit([0.8, 0.2], seed=314)"
   ]
  },
  {
   "cell_type": "code",
   "execution_count": 30,
   "metadata": {},
   "outputs": [],
   "source": [
    "predictors = [\"Open\", \"High\", \"Low\", \"Close\", \"Adj Close\", \"Volume\"]\n",
    "\n",
    "assembler = VectorAssembler(inputCols=predictors,\n",
    "                            outputCol=\"features\")\n",
    "\n",
    "scaler = StandardScaler(inputCol=\"features\", outputCol=\"scaledFeatures\")\n",
    "\n",
    "lr = LogisticRegression(labelCol='Currency_Type', featuresCol='scaledFeatures', maxIter=10, regParam=None) #instantiating model "
   ]
  },
  {
   "cell_type": "code",
   "execution_count": 31,
   "metadata": {},
   "outputs": [],
   "source": [
    "# Fit the pipeline\n",
    "pipeline = Pipeline(stages=[assembler, scaler, lr]) #not column names, using objects itself \n",
    "model = pipeline.fit(training) #only need to fit once, does every step in pipeline together "
   ]
  },
  {
   "cell_type": "code",
   "execution_count": 32,
   "metadata": {},
   "outputs": [
    {
     "name": "stdout",
     "output_type": "stream",
     "text": [
      "+-------------+----------------------------------------+----------------------------------------+----------+\n",
      "|Currency_Type|rawPrediction                           |probability                             |prediction|\n",
      "+-------------+----------------------------------------+----------------------------------------+----------+\n",
      "|0            |[1.23660446352838,-1.23660446352838]    |[0.77497241901909,0.22502758098091002]  |0.0       |\n",
      "|0            |[1.2418930097997671,-1.2418930097997671]|[0.7758933481303883,0.22410665186961165]|0.0       |\n",
      "|0            |[1.2530982144915315,-1.2530982144915315]|[0.7778357161342135,0.22216428386578646]|0.0       |\n",
      "+-------------+----------------------------------------+----------------------------------------+----------+\n",
      "only showing top 3 rows\n",
      "\n"
     ]
    }
   ],
   "source": [
    "prediction = model.transform(test)\n",
    "prediction.select('Currency_Type', 'rawPrediction','probability','prediction').show(3, False)"
   ]
  },
  {
   "cell_type": "code",
   "execution_count": 35,
   "metadata": {},
   "outputs": [],
   "source": [
    "from pyspark.ml.evaluation import BinaryClassificationEvaluator\n",
    "\n",
    "# set up evaluator\n",
    "evaluator = BinaryClassificationEvaluator(rawPredictionCol=\"prediction\",\n",
    "                                          labelCol=\"Currency_Type\",\n",
    "                                          metricName=\"areaUnderROC\")"
   ]
  },
  {
   "cell_type": "code",
   "execution_count": 36,
   "metadata": {},
   "outputs": [
    {
     "data": {
      "text/plain": [
       "0.890625"
      ]
     },
     "execution_count": 36,
     "metadata": {},
     "output_type": "execute_result"
    }
   ],
   "source": [
    "evaluator.evaluate(prediction)"
   ]
  },
  {
   "cell_type": "markdown",
   "metadata": {},
   "source": [
    "The accuracy in this logistic regression model is fairly high at 0.9563. In this model, we did not use percentage change, but instead used standard scalar to scale the data within the model pipeline. We believe that the accuracy in this model is reflective of the difference in scale of stock and crypto. If we were looking at other test data, this test data will also reflect this difference in scale due to the nature of which people trade stock and crypto. We think this is a good initial model in understanding the differences between stock and crypto. "
   ]
  },
  {
   "cell_type": "code",
   "execution_count": 38,
   "metadata": {},
   "outputs": [],
   "source": [
    "# with RDDs\n",
    "predictors = [\"Open\", \"High\", \"Low\", \"Close\", \"Adj Close\", \"Volume\"]\n",
    "\n",
    "assembler = VectorAssembler(inputCols=predictors,\n",
    "                            outputCol=\"features\")\n",
    "\n",
    "transformed = assembler.transform(combined_df)"
   ]
  },
  {
   "cell_type": "code",
   "execution_count": 39,
   "metadata": {},
   "outputs": [],
   "source": [
    "scaler = StandardScaler(inputCol=\"features\", outputCol=\"scaledFeatures\")\n",
    "\n",
    "scalerModel = scaler.fit(transformed)\n",
    "scaledData = scalerModel.transform(transformed)"
   ]
  },
  {
   "cell_type": "code",
   "execution_count": 40,
   "metadata": {},
   "outputs": [],
   "source": [
    "dataRdd = scaledData.select(\"Currency_Type\", \"scaledFeatures\").rdd.map(tuple)"
   ]
  },
  {
   "cell_type": "code",
   "execution_count": 41,
   "metadata": {},
   "outputs": [
    {
     "data": {
      "text/plain": [
       "[(1, DenseVector([0.0165, 0.0165, 0.0171, 0.0169, 0.0169, 0.358])),\n",
       " (1, DenseVector([0.0169, 0.0165, 0.0171, 0.0168, 0.0168, 0.3461])),\n",
       " (1, DenseVector([0.0168, 0.0164, 0.0171, 0.0167, 0.0167, 0.3017])),\n",
       " (1, DenseVector([0.0167, 0.0162, 0.0169, 0.0163, 0.0163, 0.3122])),\n",
       " (1, DenseVector([0.0163, 0.0162, 0.0169, 0.0165, 0.0165, 0.281]))]"
      ]
     },
     "execution_count": 41,
     "metadata": {},
     "output_type": "execute_result"
    }
   ],
   "source": [
    "dataRdd.take(5)"
   ]
  },
  {
   "cell_type": "code",
   "execution_count": 42,
   "metadata": {},
   "outputs": [],
   "source": [
    "lp = dataRdd.map(lambda row:(1 if row[0]==1 else 0, Vectors.dense(row[1])))    \\\n",
    "                    .map(lambda row: LabeledPoint(row[0], row[1]))"
   ]
  },
  {
   "cell_type": "code",
   "execution_count": 43,
   "metadata": {},
   "outputs": [
    {
     "data": {
      "text/plain": [
       "[LabeledPoint(1.0, [0.016542371837416168,0.01650433870816151,0.017064982230052646,0.016855863173314254,0.016855604105891882,0.35798186908767804]),\n",
       " LabeledPoint(1.0, [0.016882926448330945,0.01647360201682773,0.01713337605118017,0.016756065680279167,0.016755808146701665,0.34610599387897406]),\n",
       " LabeledPoint(1.0, [0.01676818550433994,0.01637701666238456,0.017104224492999993,0.01668940125775733,0.01668914474878355,0.3017229688432917]),\n",
       " LabeledPoint(1.0, [0.016700239371961936,0.01620830150203067,0.016943137995930547,0.016332542135125944,0.01633229111092456,0.31217491527992175]),\n",
       " LabeledPoint(1.0, [0.016341790785426722,0.016159074004115703,0.016931591594147144,0.016486130671110315,0.01648587728631869,0.2810066505830164])]"
      ]
     },
     "execution_count": 43,
     "metadata": {},
     "output_type": "execute_result"
    }
   ],
   "source": [
    "lp.take(5)"
   ]
  },
  {
   "cell_type": "code",
   "execution_count": 44,
   "metadata": {},
   "outputs": [],
   "source": [
    "training, test = lp.randomSplit([0.8, 0.2], seed=314)"
   ]
  },
  {
   "cell_type": "code",
   "execution_count": 45,
   "metadata": {},
   "outputs": [],
   "source": [
    "model =  LogisticRegressionWithLBFGS.train(training, iterations=10, regType=None)"
   ]
  },
  {
   "cell_type": "code",
   "execution_count": 46,
   "metadata": {},
   "outputs": [
    {
     "name": "stdout",
     "output_type": "stream",
     "text": [
      "[(1.0, 1), (1.0, 1), (1.0, 1), (1.0, 1), (1.0, 1), (1.0, 1), (1.0, 1), (1.0, 1), (1.0, 1), (1.0, 1), (1.0, 1), (1.0, 1), (1.0, 1), (1.0, 1), (1.0, 1), (1.0, 1), (1.0, 1), (1.0, 1), (1.0, 1), (1.0, 1)]\n"
     ]
    }
   ],
   "source": [
    "labelsAndPreds = test.map(lambda p: (p.label, model.predict(p.features)))\n",
    "print(labelsAndPreds.take(20))"
   ]
  },
  {
   "cell_type": "code",
   "execution_count": 47,
   "metadata": {},
   "outputs": [
    {
     "name": "stdout",
     "output_type": "stream",
     "text": [
      "[[1.0, 1.0], [1.0, 1.0], [1.0, 1.0], [1.0, 1.0], [1.0, 1.0], [1.0, 1.0], [1.0, 1.0], [1.0, 1.0], [1.0, 1.0], [1.0, 1.0], [1.0, 1.0], [1.0, 1.0], [1.0, 1.0], [1.0, 1.0], [1.0, 1.0], [1.0, 1.0], [1.0, 1.0], [1.0, 1.0], [1.0, 1.0], [1.0, 1.0]]\n"
     ]
    }
   ],
   "source": [
    "labelsAndPreds = labelsAndPreds.map(lambda xs: [float(x) for x in xs])\n",
    "print(labelsAndPreds.take(20))"
   ]
  },
  {
   "cell_type": "code",
   "execution_count": 55,
   "metadata": {},
   "outputs": [
    {
     "name": "stdout",
     "output_type": "stream",
     "text": [
      "accuracy: 0.9109195402298851\n"
     ]
    }
   ],
   "source": [
    "metrics = MulticlassMetrics(labelsAndPreds)\n",
    "print('accuracy:', metrics.accuracy)"
   ]
  },
  {
   "cell_type": "code",
   "execution_count": 49,
   "metadata": {},
   "outputs": [
    {
     "data": {
      "text/plain": [
       "array([[ 98.,   0.],\n",
       "       [ 31., 219.]])"
      ]
     },
     "execution_count": 49,
     "metadata": {},
     "output_type": "execute_result"
    }
   ],
   "source": [
    "# confusion matrix\n",
    "metrics.confusionMatrix().toArray()\n",
    "#.       1  0\n",
    "# pred1 TP FN\n",
    "# pred0 FP TN"
   ]
  },
  {
   "cell_type": "code",
   "execution_count": 74,
   "metadata": {},
   "outputs": [
    {
     "data": {
      "text/plain": [
       "0.7596899224806202"
      ]
     },
     "execution_count": 74,
     "metadata": {},
     "output_type": "execute_result"
    }
   ],
   "source": [
    "Precision = 98 / (98 + 31)\n",
    "Precision"
   ]
  },
  {
   "cell_type": "code",
   "execution_count": 75,
   "metadata": {},
   "outputs": [
    {
     "data": {
      "text/plain": [
       "1.0"
      ]
     },
     "execution_count": 75,
     "metadata": {},
     "output_type": "execute_result"
    }
   ],
   "source": [
    "Recall = 98 / (98 + 0)\n",
    "Recall"
   ]
  },
  {
   "cell_type": "code",
   "execution_count": 76,
   "metadata": {},
   "outputs": [
    {
     "data": {
      "text/plain": [
       "0.8634361233480177"
      ]
     },
     "execution_count": 76,
     "metadata": {},
     "output_type": "execute_result"
    }
   ],
   "source": [
    "F1 = (2 * Precision * Recall) / (Precision + Recall)\n",
    "F1"
   ]
  },
  {
   "cell_type": "markdown",
   "metadata": {},
   "source": [
    "The accuracy in this logistic regression model is fairly high at 0.91. In this model, we did not use percentage change, but instead used standard scalar to scale the data within the model pipeline. We believe that the accuracy in this model is reflective of the difference in scale of stock and crypto. If we were looking at other test data, this test data will also reflect this difference in scale due to the nature of which people trade stock and crypto. We think this is a good initial model in understanding the differences between stock and crypto. "
   ]
  },
  {
   "cell_type": "markdown",
   "metadata": {},
   "source": [
    "#### Logistic Regression with Percentage Change"
   ]
  },
  {
   "cell_type": "code",
   "execution_count": 115,
   "metadata": {},
   "outputs": [],
   "source": [
    "df2 = combined_df.filter(combined_df.Open.isNotNull())"
   ]
  },
  {
   "cell_type": "code",
   "execution_count": 116,
   "metadata": {},
   "outputs": [
    {
     "name": "stdout",
     "output_type": "stream",
     "text": [
      "root\n",
      " |-- Date: date (nullable = true)\n",
      " |-- Open: float (nullable = true)\n",
      " |-- High: float (nullable = true)\n",
      " |-- Low: float (nullable = true)\n",
      " |-- Close: float (nullable = true)\n",
      " |-- Adj Close: float (nullable = true)\n",
      " |-- Volume: float (nullable = true)\n",
      " |-- Currency_Type: integer (nullable = false)\n",
      " |-- Currency_Name: string (nullable = false)\n",
      " |-- prev_value_open: float (nullable = true)\n",
      " |-- perc_diff_open: double (nullable = true)\n",
      " |-- prev_value_close: float (nullable = true)\n",
      " |-- perc_diff_close: double (nullable = true)\n",
      " |-- prev_value_high: float (nullable = true)\n",
      " |-- perc_diff_high: double (nullable = true)\n",
      " |-- prev_value_low: float (nullable = true)\n",
      " |-- perc_diff_low: double (nullable = true)\n",
      " |-- prev_value_adjclose: float (nullable = true)\n",
      " |-- perc_diff_adjclose: double (nullable = true)\n",
      " |-- prev_value_volume: float (nullable = true)\n",
      " |-- perc_diff_volume: double (nullable = true)\n",
      "\n"
     ]
    }
   ],
   "source": [
    "df2.printSchema()"
   ]
  },
  {
   "cell_type": "code",
   "execution_count": 117,
   "metadata": {},
   "outputs": [],
   "source": [
    "predictors = [\"perc_diff_open\", \"perc_diff_close\", \"perc_diff_high\", \"perc_diff_low\", \"perc_diff_adjclose\", \"perc_diff_volume\"]\n",
    "\n",
    "assembler2 = VectorAssembler(inputCols=predictors,\n",
    "                            outputCol=\"features\")\n",
    "\n",
    "transformed2 = assembler2.transform(df2)"
   ]
  },
  {
   "cell_type": "code",
   "execution_count": 118,
   "metadata": {},
   "outputs": [],
   "source": [
    "dataRdd2 = transformed2.select(\"Currency_Type\", \"features\").rdd.map(tuple)"
   ]
  },
  {
   "cell_type": "code",
   "execution_count": 119,
   "metadata": {},
   "outputs": [
    {
     "data": {
      "text/plain": [
       "[(0, SparseVector(6, {})),\n",
       " (0, DenseVector([-0.0239, 0.0098, -0.0078, 0.021, 0.0098, -0.2961])),\n",
       " (0, DenseVector([0.0155, 0.0123, 0.0141, 0.0121, 0.0123, -0.014])),\n",
       " (0, DenseVector([0.0098, -0.003, -0.0032, -0.0031, -0.003, -0.1099])),\n",
       " (0, DenseVector([-0.0127, -0.0066, -0.007, -0.0013, -0.0066, -0.267]))]"
      ]
     },
     "execution_count": 119,
     "metadata": {},
     "output_type": "execute_result"
    }
   ],
   "source": [
    "dataRdd2.take(5)"
   ]
  },
  {
   "cell_type": "code",
   "execution_count": 120,
   "metadata": {},
   "outputs": [],
   "source": [
    "lp2 = dataRdd2.map(lambda row:(1 if row[0]==1 else 0, Vectors.dense(row[1])))    \\\n",
    "                    .map(lambda row: LabeledPoint(row[0], row[1]))"
   ]
  },
  {
   "cell_type": "code",
   "execution_count": 121,
   "metadata": {},
   "outputs": [],
   "source": [
    "training, test = lp2.randomSplit([0.8, 0.2], seed=314)"
   ]
  },
  {
   "cell_type": "code",
   "execution_count": 122,
   "metadata": {},
   "outputs": [],
   "source": [
    "model =  LogisticRegressionWithLBFGS.train(training, iterations=10, regType=None)"
   ]
  },
  {
   "cell_type": "code",
   "execution_count": 123,
   "metadata": {},
   "outputs": [
    {
     "name": "stdout",
     "output_type": "stream",
     "text": [
      "[(0.0, 0), (0.0, 0), (0.0, 1), (0.0, 0), (0.0, 1), (0.0, 1), (0.0, 1), (0.0, 0), (0.0, 0), (0.0, 1), (0.0, 1), (0.0, 0), (0.0, 1), (0.0, 1), (0.0, 1), (0.0, 1), (0.0, 0), (0.0, 1), (0.0, 1), (0.0, 1)]\n"
     ]
    }
   ],
   "source": [
    "labelsAndPreds = test.map(lambda p: (p.label, model.predict(p.features)))\n",
    "print(labelsAndPreds.take(20))"
   ]
  },
  {
   "cell_type": "code",
   "execution_count": 124,
   "metadata": {},
   "outputs": [
    {
     "name": "stdout",
     "output_type": "stream",
     "text": [
      "[[0.0, 0.0], [0.0, 0.0], [0.0, 1.0], [0.0, 0.0], [0.0, 1.0], [0.0, 1.0], [0.0, 1.0], [0.0, 0.0], [0.0, 0.0], [0.0, 1.0], [0.0, 1.0], [0.0, 0.0], [0.0, 1.0], [0.0, 1.0], [0.0, 1.0], [0.0, 1.0], [0.0, 0.0], [0.0, 1.0], [0.0, 1.0], [0.0, 1.0]]\n"
     ]
    }
   ],
   "source": [
    "labelsAndPreds = labelsAndPreds.map(lambda xs: [float(x) for x in xs])\n",
    "print(labelsAndPreds.take(20))"
   ]
  },
  {
   "cell_type": "code",
   "execution_count": 125,
   "metadata": {},
   "outputs": [
    {
     "data": {
      "text/plain": [
       "0.47947478442644365"
      ]
     },
     "execution_count": 125,
     "metadata": {},
     "output_type": "execute_result"
    }
   ],
   "source": [
    "metricsbinary = BinaryClassificationMetrics(labelsAndPreds)\n",
    "metricsbinary.areaUnderROC"
   ]
  },
  {
   "cell_type": "code",
   "execution_count": 126,
   "metadata": {},
   "outputs": [
    {
     "name": "stdout",
     "output_type": "stream",
     "text": [
      "accuracy: 0.4860050890585242\n"
     ]
    }
   ],
   "source": [
    "metrics = MulticlassMetrics(labelsAndPreds)\n",
    "print('accuracy:', metrics.accuracy)"
   ]
  },
  {
   "cell_type": "code",
   "execution_count": 127,
   "metadata": {},
   "outputs": [
    {
     "data": {
      "text/plain": [
       "array([[ 73., 105.],\n",
       "       [ 97., 118.]])"
      ]
     },
     "execution_count": 127,
     "metadata": {},
     "output_type": "execute_result"
    }
   ],
   "source": [
    "# confusion matrix\n",
    "metrics.confusionMatrix().toArray()"
   ]
  },
  {
   "cell_type": "code",
   "execution_count": 128,
   "metadata": {},
   "outputs": [
    {
     "data": {
      "text/plain": [
       "0.4294117647058823"
      ]
     },
     "execution_count": 128,
     "metadata": {},
     "output_type": "execute_result"
    }
   ],
   "source": [
    "Precision = 73 / (73 + 97)\n",
    "Precision"
   ]
  },
  {
   "cell_type": "code",
   "execution_count": 129,
   "metadata": {},
   "outputs": [
    {
     "data": {
      "text/plain": [
       "0.4101123595505618"
      ]
     },
     "execution_count": 129,
     "metadata": {},
     "output_type": "execute_result"
    }
   ],
   "source": [
    "Recall = 73 / (73 + 105)\n",
    "Recall"
   ]
  },
  {
   "cell_type": "code",
   "execution_count": 130,
   "metadata": {},
   "outputs": [
    {
     "data": {
      "text/plain": [
       "0.41954022988505746"
      ]
     },
     "execution_count": 130,
     "metadata": {},
     "output_type": "execute_result"
    }
   ],
   "source": [
    "F1 = (2 * Precision * Recall) / (Precision + Recall)\n",
    "F1"
   ]
  },
  {
   "cell_type": "markdown",
   "metadata": {},
   "source": [
    "The logistic regression model with percentage change features resulted in an accuracy much lower than the logistic regression model with raw features and standard scalar. We believe this is likely due to the standardization of features before feeding into the model. While percentage change was calculated by group (stock or crypto ticker), the percentage change is more minute and less of a difference between different groups."
   ]
  },
  {
   "cell_type": "markdown",
   "metadata": {},
   "source": [
    "#### Logistic Regularization (Ridge Regression)"
   ]
  },
  {
   "cell_type": "code",
   "execution_count": 106,
   "metadata": {},
   "outputs": [],
   "source": [
    "model_ridge =  LogisticRegressionWithLBFGS.train(training, iterations=10, regType = 'l2')"
   ]
  },
  {
   "cell_type": "code",
   "execution_count": 107,
   "metadata": {},
   "outputs": [
    {
     "name": "stdout",
     "output_type": "stream",
     "text": [
      "[(0.0, 0), (0.0, 0), (0.0, 1), (0.0, 0), (0.0, 1), (0.0, 1), (0.0, 1), (0.0, 0), (0.0, 0), (0.0, 1), (0.0, 1), (0.0, 0), (0.0, 1), (0.0, 1), (0.0, 1), (0.0, 1), (0.0, 0), (0.0, 1), (0.0, 1), (0.0, 1)]\n"
     ]
    }
   ],
   "source": [
    "labelsAndPreds = test.map(lambda p: (p.label, model_ridge.predict(p.features)))\n",
    "print(labelsAndPreds.take(20))"
   ]
  },
  {
   "cell_type": "code",
   "execution_count": 108,
   "metadata": {},
   "outputs": [
    {
     "name": "stdout",
     "output_type": "stream",
     "text": [
      "[[0.0, 0.0], [0.0, 0.0], [0.0, 1.0], [0.0, 0.0], [0.0, 1.0], [0.0, 1.0], [0.0, 1.0], [0.0, 0.0], [0.0, 0.0], [0.0, 1.0], [0.0, 1.0], [0.0, 0.0], [0.0, 1.0], [0.0, 1.0], [0.0, 1.0], [0.0, 1.0], [0.0, 0.0], [0.0, 1.0], [0.0, 1.0], [0.0, 1.0]]\n"
     ]
    }
   ],
   "source": [
    "labelsAndPreds = labelsAndPreds.map(lambda xs: [float(x) for x in xs])\n",
    "print(labelsAndPreds.take(20))"
   ]
  },
  {
   "cell_type": "code",
   "execution_count": 109,
   "metadata": {},
   "outputs": [
    {
     "data": {
      "text/plain": [
       "0.47947478442644365"
      ]
     },
     "execution_count": 109,
     "metadata": {},
     "output_type": "execute_result"
    }
   ],
   "source": [
    "metricsbinary = BinaryClassificationMetrics(labelsAndPreds)\n",
    "metricsbinary.areaUnderROC"
   ]
  },
  {
   "cell_type": "code",
   "execution_count": 110,
   "metadata": {},
   "outputs": [
    {
     "name": "stdout",
     "output_type": "stream",
     "text": [
      "accuracy: 0.4860050890585242\n"
     ]
    }
   ],
   "source": [
    "metrics = MulticlassMetrics(labelsAndPreds)\n",
    "print('accuracy:', metrics.accuracy)"
   ]
  },
  {
   "cell_type": "code",
   "execution_count": 111,
   "metadata": {},
   "outputs": [
    {
     "data": {
      "text/plain": [
       "array([[ 73., 105.],\n",
       "       [ 97., 118.]])"
      ]
     },
     "execution_count": 111,
     "metadata": {},
     "output_type": "execute_result"
    }
   ],
   "source": [
    "# confusion matrix\n",
    "metrics.confusionMatrix().toArray()"
   ]
  },
  {
   "cell_type": "code",
   "execution_count": 112,
   "metadata": {},
   "outputs": [
    {
     "data": {
      "text/plain": [
       "0.4294117647058823"
      ]
     },
     "execution_count": 112,
     "metadata": {},
     "output_type": "execute_result"
    }
   ],
   "source": [
    "Precision = 73 / (73 + 97)\n",
    "Precision"
   ]
  },
  {
   "cell_type": "code",
   "execution_count": 113,
   "metadata": {},
   "outputs": [
    {
     "data": {
      "text/plain": [
       "0.4101123595505618"
      ]
     },
     "execution_count": 113,
     "metadata": {},
     "output_type": "execute_result"
    }
   ],
   "source": [
    "Recall = 73 / (73 + 105)\n",
    "Recall"
   ]
  },
  {
   "cell_type": "code",
   "execution_count": 114,
   "metadata": {},
   "outputs": [
    {
     "data": {
      "text/plain": [
       "0.41954022988505746"
      ]
     },
     "execution_count": 114,
     "metadata": {},
     "output_type": "execute_result"
    }
   ],
   "source": [
    "F1 = (2 * Precision * Recall) / (Precision + Recall)\n",
    "F1"
   ]
  },
  {
   "cell_type": "markdown",
   "metadata": {},
   "source": [
    "#### Kmeans"
   ]
  },
  {
   "cell_type": "markdown",
   "metadata": {},
   "source": [
    "#### Percentage Change for Volume (Raw)"
   ]
  },
  {
   "cell_type": "code",
   "execution_count": 40,
   "metadata": {},
   "outputs": [],
   "source": [
    "import pandas as pd"
   ]
  },
  {
   "cell_type": "code",
   "execution_count": 41,
   "metadata": {},
   "outputs": [],
   "source": [
    "df_pandas = combined_df.toPandas()"
   ]
  },
  {
   "cell_type": "code",
   "execution_count": 42,
   "metadata": {},
   "outputs": [],
   "source": [
    "# perc_diff_open\n",
    "volumedf = df_pandas[['Date', 'Currency_Name', 'Volume']]"
   ]
  },
  {
   "cell_type": "code",
   "execution_count": 43,
   "metadata": {},
   "outputs": [
    {
     "data": {
      "text/html": [
       "<div>\n",
       "<style scoped>\n",
       "    .dataframe tbody tr th:only-of-type {\n",
       "        vertical-align: middle;\n",
       "    }\n",
       "\n",
       "    .dataframe tbody tr th {\n",
       "        vertical-align: top;\n",
       "    }\n",
       "\n",
       "    .dataframe thead th {\n",
       "        text-align: right;\n",
       "    }\n",
       "</style>\n",
       "<table border=\"1\" class=\"dataframe\">\n",
       "  <thead>\n",
       "    <tr style=\"text-align: right;\">\n",
       "      <th>Currency_Name</th>\n",
       "      <th>Date</th>\n",
       "      <th>BTC</th>\n",
       "      <th>DOGE</th>\n",
       "      <th>ETC</th>\n",
       "      <th>PFE</th>\n",
       "      <th>SBUX</th>\n",
       "      <th>TSLA</th>\n",
       "    </tr>\n",
       "  </thead>\n",
       "  <tbody>\n",
       "    <tr>\n",
       "      <th>0</th>\n",
       "      <td>2020-06-16</td>\n",
       "      <td>2.156554e+10</td>\n",
       "      <td>1.962126e+08</td>\n",
       "      <td>7.965648e+09</td>\n",
       "      <td>55616944.0</td>\n",
       "      <td>10890100.0</td>\n",
       "      <td>70255504.0</td>\n",
       "    </tr>\n",
       "    <tr>\n",
       "      <th>1</th>\n",
       "      <td>2020-06-17</td>\n",
       "      <td>2.017771e+10</td>\n",
       "      <td>1.850835e+08</td>\n",
       "      <td>7.701391e+09</td>\n",
       "      <td>27509822.0</td>\n",
       "      <td>6906700.0</td>\n",
       "      <td>49454000.0</td>\n",
       "    </tr>\n",
       "    <tr>\n",
       "      <th>2</th>\n",
       "      <td>2020-06-18</td>\n",
       "      <td>1.777008e+10</td>\n",
       "      <td>1.713886e+08</td>\n",
       "      <td>6.713801e+09</td>\n",
       "      <td>32278856.0</td>\n",
       "      <td>8486000.0</td>\n",
       "      <td>48759500.0</td>\n",
       "    </tr>\n",
       "    <tr>\n",
       "      <th>3</th>\n",
       "      <td>2020-06-19</td>\n",
       "      <td>1.963222e+10</td>\n",
       "      <td>1.732810e+08</td>\n",
       "      <td>6.946373e+09</td>\n",
       "      <td>43986264.0</td>\n",
       "      <td>12538600.0</td>\n",
       "      <td>43398500.0</td>\n",
       "    </tr>\n",
       "    <tr>\n",
       "      <th>4</th>\n",
       "      <td>2020-06-20</td>\n",
       "      <td>1.713054e+10</td>\n",
       "      <td>1.582751e+08</td>\n",
       "      <td>6.252831e+09</td>\n",
       "      <td>0.0</td>\n",
       "      <td>0.0</td>\n",
       "      <td>0.0</td>\n",
       "    </tr>\n",
       "    <tr>\n",
       "      <th>...</th>\n",
       "      <td>...</td>\n",
       "      <td>...</td>\n",
       "      <td>...</td>\n",
       "      <td>...</td>\n",
       "      <td>...</td>\n",
       "      <td>...</td>\n",
       "      <td>...</td>\n",
       "    </tr>\n",
       "    <tr>\n",
       "      <th>361</th>\n",
       "      <td>2021-06-12</td>\n",
       "      <td>3.792423e+10</td>\n",
       "      <td>1.605634e+09</td>\n",
       "      <td>2.572436e+10</td>\n",
       "      <td>0.0</td>\n",
       "      <td>0.0</td>\n",
       "      <td>0.0</td>\n",
       "    </tr>\n",
       "    <tr>\n",
       "      <th>362</th>\n",
       "      <td>2021-06-13</td>\n",
       "      <td>4.066911e+10</td>\n",
       "      <td>1.484851e+09</td>\n",
       "      <td>2.709294e+10</td>\n",
       "      <td>0.0</td>\n",
       "      <td>0.0</td>\n",
       "      <td>0.0</td>\n",
       "    </tr>\n",
       "    <tr>\n",
       "      <th>363</th>\n",
       "      <td>2021-06-14</td>\n",
       "      <td>4.851313e+10</td>\n",
       "      <td>1.822191e+09</td>\n",
       "      <td>2.778349e+10</td>\n",
       "      <td>23408300.0</td>\n",
       "      <td>4222400.0</td>\n",
       "      <td>20424000.0</td>\n",
       "    </tr>\n",
       "    <tr>\n",
       "      <th>364</th>\n",
       "      <td>2021-06-15</td>\n",
       "      <td>4.023153e+10</td>\n",
       "      <td>1.504015e+09</td>\n",
       "      <td>2.607007e+10</td>\n",
       "      <td>20206900.0</td>\n",
       "      <td>3487300.0</td>\n",
       "      <td>17764100.0</td>\n",
       "    </tr>\n",
       "    <tr>\n",
       "      <th>365</th>\n",
       "      <td>2021-06-16</td>\n",
       "      <td>3.943359e+10</td>\n",
       "      <td>1.460774e+09</td>\n",
       "      <td>2.370532e+10</td>\n",
       "      <td>19177500.0</td>\n",
       "      <td>4822000.0</td>\n",
       "      <td>22144100.0</td>\n",
       "    </tr>\n",
       "  </tbody>\n",
       "</table>\n",
       "<p>366 rows × 7 columns</p>\n",
       "</div>"
      ],
      "text/plain": [
       "Currency_Name        Date           BTC          DOGE           ETC  \\\n",
       "0              2020-06-16  2.156554e+10  1.962126e+08  7.965648e+09   \n",
       "1              2020-06-17  2.017771e+10  1.850835e+08  7.701391e+09   \n",
       "2              2020-06-18  1.777008e+10  1.713886e+08  6.713801e+09   \n",
       "3              2020-06-19  1.963222e+10  1.732810e+08  6.946373e+09   \n",
       "4              2020-06-20  1.713054e+10  1.582751e+08  6.252831e+09   \n",
       "..                    ...           ...           ...           ...   \n",
       "361            2021-06-12  3.792423e+10  1.605634e+09  2.572436e+10   \n",
       "362            2021-06-13  4.066911e+10  1.484851e+09  2.709294e+10   \n",
       "363            2021-06-14  4.851313e+10  1.822191e+09  2.778349e+10   \n",
       "364            2021-06-15  4.023153e+10  1.504015e+09  2.607007e+10   \n",
       "365            2021-06-16  3.943359e+10  1.460774e+09  2.370532e+10   \n",
       "\n",
       "Currency_Name         PFE        SBUX        TSLA  \n",
       "0              55616944.0  10890100.0  70255504.0  \n",
       "1              27509822.0   6906700.0  49454000.0  \n",
       "2              32278856.0   8486000.0  48759500.0  \n",
       "3              43986264.0  12538600.0  43398500.0  \n",
       "4                     0.0         0.0         0.0  \n",
       "..                    ...         ...         ...  \n",
       "361                   0.0         0.0         0.0  \n",
       "362                   0.0         0.0         0.0  \n",
       "363            23408300.0   4222400.0  20424000.0  \n",
       "364            20206900.0   3487300.0  17764100.0  \n",
       "365            19177500.0   4822000.0  22144100.0  \n",
       "\n",
       "[366 rows x 7 columns]"
      ]
     },
     "execution_count": 43,
     "metadata": {},
     "output_type": "execute_result"
    }
   ],
   "source": [
    "volumedf_clean = volumedf.pivot_table(index=['Date'], \n",
    "                                  columns='Currency_Name', \n",
    "                                  values='Volume')\n",
    "volumedf_clean = volumedf_clean.reset_index()\n",
    "volumedf_clean = volumedf_clean.fillna(0)\n",
    "volumedf_clean"
   ]
  },
  {
   "cell_type": "code",
   "execution_count": 44,
   "metadata": {},
   "outputs": [
    {
     "data": {
      "text/plain": [
       "['BTC', 'DOGE', 'ETC', 'PFE', 'SBUX', 'TSLA']"
      ]
     },
     "execution_count": 44,
     "metadata": {},
     "output_type": "execute_result"
    }
   ],
   "source": [
    "tickers = list(volumedf_clean.columns[1:])\n",
    "tickers"
   ]
  },
  {
   "cell_type": "code",
   "execution_count": 45,
   "metadata": {},
   "outputs": [
    {
     "data": {
      "text/plain": [
       "array([datetime.date(2020, 6, 16), datetime.date(2020, 6, 17),\n",
       "       datetime.date(2020, 6, 18), datetime.date(2020, 6, 19),\n",
       "       datetime.date(2020, 6, 20)], dtype=object)"
      ]
     },
     "execution_count": 45,
     "metadata": {},
     "output_type": "execute_result"
    }
   ],
   "source": [
    "dates = volumedf_clean.Date.values\n",
    "dates[:5]"
   ]
  },
  {
   "cell_type": "code",
   "execution_count": 46,
   "metadata": {},
   "outputs": [],
   "source": [
    "del volumedf_clean['Date']"
   ]
  },
  {
   "cell_type": "code",
   "execution_count": 47,
   "metadata": {},
   "outputs": [],
   "source": [
    "vals = volumedf_clean.values"
   ]
  },
  {
   "cell_type": "code",
   "execution_count": 48,
   "metadata": {},
   "outputs": [],
   "source": [
    "vals_t = vals.transpose()"
   ]
  },
  {
   "cell_type": "code",
   "execution_count": 49,
   "metadata": {},
   "outputs": [
    {
     "data": {
      "text/plain": [
       "array([[2.1565536e+10, 2.0177709e+10, 1.7770082e+10, ..., 4.8513126e+10,\n",
       "        4.0231530e+10, 3.9433593e+10],\n",
       "       [1.9621262e+08, 1.8508352e+08, 1.7138861e+08, ..., 1.8221911e+09,\n",
       "        1.5040151e+09, 1.4607739e+09],\n",
       "       [7.9656479e+09, 7.7013914e+09, 6.7138007e+09, ..., 2.7783487e+10,\n",
       "        2.6070073e+10, 2.3705321e+10],\n",
       "       [5.5616944e+07, 2.7509822e+07, 3.2278856e+07, ..., 2.3408300e+07,\n",
       "        2.0206900e+07, 1.9177500e+07],\n",
       "       [1.0890100e+07, 6.9067000e+06, 8.4860000e+06, ..., 4.2224000e+06,\n",
       "        3.4873000e+06, 4.8220000e+06],\n",
       "       [7.0255504e+07, 4.9454000e+07, 4.8759500e+07, ..., 2.0424000e+07,\n",
       "        1.7764100e+07, 2.2144100e+07]], dtype=float32)"
      ]
     },
     "execution_count": 49,
     "metadata": {},
     "output_type": "execute_result"
    }
   ],
   "source": [
    "vals_t"
   ]
  },
  {
   "cell_type": "code",
   "execution_count": 50,
   "metadata": {},
   "outputs": [],
   "source": [
    "dft = pd.DataFrame(data=vals_t, index=volumedf_clean.columns, columns=dates)"
   ]
  },
  {
   "cell_type": "code",
   "execution_count": 51,
   "metadata": {},
   "outputs": [
    {
     "data": {
      "text/html": [
       "<div>\n",
       "<style scoped>\n",
       "    .dataframe tbody tr th:only-of-type {\n",
       "        vertical-align: middle;\n",
       "    }\n",
       "\n",
       "    .dataframe tbody tr th {\n",
       "        vertical-align: top;\n",
       "    }\n",
       "\n",
       "    .dataframe thead th {\n",
       "        text-align: right;\n",
       "    }\n",
       "</style>\n",
       "<table border=\"1\" class=\"dataframe\">\n",
       "  <thead>\n",
       "    <tr style=\"text-align: right;\">\n",
       "      <th></th>\n",
       "      <th>2020-06-16</th>\n",
       "      <th>2020-06-17</th>\n",
       "      <th>2020-06-18</th>\n",
       "      <th>2020-06-19</th>\n",
       "      <th>2020-06-20</th>\n",
       "      <th>2020-06-21</th>\n",
       "      <th>2020-06-22</th>\n",
       "      <th>2020-06-23</th>\n",
       "      <th>2020-06-24</th>\n",
       "      <th>2020-06-25</th>\n",
       "      <th>...</th>\n",
       "      <th>2021-06-07</th>\n",
       "      <th>2021-06-08</th>\n",
       "      <th>2021-06-09</th>\n",
       "      <th>2021-06-10</th>\n",
       "      <th>2021-06-11</th>\n",
       "      <th>2021-06-12</th>\n",
       "      <th>2021-06-13</th>\n",
       "      <th>2021-06-14</th>\n",
       "      <th>2021-06-15</th>\n",
       "      <th>2021-06-16</th>\n",
       "    </tr>\n",
       "    <tr>\n",
       "      <th>Currency_Name</th>\n",
       "      <th></th>\n",
       "      <th></th>\n",
       "      <th></th>\n",
       "      <th></th>\n",
       "      <th></th>\n",
       "      <th></th>\n",
       "      <th></th>\n",
       "      <th></th>\n",
       "      <th></th>\n",
       "      <th></th>\n",
       "      <th></th>\n",
       "      <th></th>\n",
       "      <th></th>\n",
       "      <th></th>\n",
       "      <th></th>\n",
       "      <th></th>\n",
       "      <th></th>\n",
       "      <th></th>\n",
       "      <th></th>\n",
       "      <th></th>\n",
       "      <th></th>\n",
       "    </tr>\n",
       "  </thead>\n",
       "  <tbody>\n",
       "    <tr>\n",
       "      <th>BTC</th>\n",
       "      <td>2.156554e+10</td>\n",
       "      <td>2.017771e+10</td>\n",
       "      <td>1.777008e+10</td>\n",
       "      <td>1.963222e+10</td>\n",
       "      <td>1.713054e+10</td>\n",
       "      <td>1.532430e+10</td>\n",
       "      <td>2.110401e+10</td>\n",
       "      <td>1.700643e+10</td>\n",
       "      <td>1.896172e+10</td>\n",
       "      <td>1.861605e+10</td>\n",
       "      <td>...</td>\n",
       "      <td>3.368394e+10</td>\n",
       "      <td>4.990205e+10</td>\n",
       "      <td>5.397292e+10</td>\n",
       "      <td>4.357603e+10</td>\n",
       "      <td>3.869974e+10</td>\n",
       "      <td>3.792423e+10</td>\n",
       "      <td>4.066911e+10</td>\n",
       "      <td>4.851313e+10</td>\n",
       "      <td>4.023153e+10</td>\n",
       "      <td>3.943359e+10</td>\n",
       "    </tr>\n",
       "    <tr>\n",
       "      <th>DOGE</th>\n",
       "      <td>1.962126e+08</td>\n",
       "      <td>1.850835e+08</td>\n",
       "      <td>1.713886e+08</td>\n",
       "      <td>1.732810e+08</td>\n",
       "      <td>1.582751e+08</td>\n",
       "      <td>1.699178e+08</td>\n",
       "      <td>1.735308e+08</td>\n",
       "      <td>1.716048e+08</td>\n",
       "      <td>1.783808e+08</td>\n",
       "      <td>1.600034e+08</td>\n",
       "      <td>...</td>\n",
       "      <td>3.043975e+09</td>\n",
       "      <td>3.918488e+09</td>\n",
       "      <td>3.154333e+09</td>\n",
       "      <td>2.114010e+09</td>\n",
       "      <td>1.834447e+09</td>\n",
       "      <td>1.605634e+09</td>\n",
       "      <td>1.484851e+09</td>\n",
       "      <td>1.822191e+09</td>\n",
       "      <td>1.504015e+09</td>\n",
       "      <td>1.460774e+09</td>\n",
       "    </tr>\n",
       "    <tr>\n",
       "      <th>ETC</th>\n",
       "      <td>7.965648e+09</td>\n",
       "      <td>7.701391e+09</td>\n",
       "      <td>6.713801e+09</td>\n",
       "      <td>6.946373e+09</td>\n",
       "      <td>6.252831e+09</td>\n",
       "      <td>5.600408e+09</td>\n",
       "      <td>9.079587e+09</td>\n",
       "      <td>6.624530e+09</td>\n",
       "      <td>8.815030e+09</td>\n",
       "      <td>7.010426e+09</td>\n",
       "      <td>...</td>\n",
       "      <td>3.060011e+10</td>\n",
       "      <td>4.190974e+10</td>\n",
       "      <td>3.607583e+10</td>\n",
       "      <td>2.875363e+10</td>\n",
       "      <td>2.483256e+10</td>\n",
       "      <td>2.572436e+10</td>\n",
       "      <td>2.709294e+10</td>\n",
       "      <td>2.778349e+10</td>\n",
       "      <td>2.607007e+10</td>\n",
       "      <td>2.370532e+10</td>\n",
       "    </tr>\n",
       "    <tr>\n",
       "      <th>PFE</th>\n",
       "      <td>5.561694e+07</td>\n",
       "      <td>2.750982e+07</td>\n",
       "      <td>3.227886e+07</td>\n",
       "      <td>4.398626e+07</td>\n",
       "      <td>0.000000e+00</td>\n",
       "      <td>0.000000e+00</td>\n",
       "      <td>2.333250e+07</td>\n",
       "      <td>3.769041e+07</td>\n",
       "      <td>3.081770e+07</td>\n",
       "      <td>2.741865e+07</td>\n",
       "      <td>...</td>\n",
       "      <td>2.411070e+07</td>\n",
       "      <td>1.888030e+07</td>\n",
       "      <td>2.982400e+07</td>\n",
       "      <td>4.261370e+07</td>\n",
       "      <td>2.138690e+07</td>\n",
       "      <td>0.000000e+00</td>\n",
       "      <td>0.000000e+00</td>\n",
       "      <td>2.340830e+07</td>\n",
       "      <td>2.020690e+07</td>\n",
       "      <td>1.917750e+07</td>\n",
       "    </tr>\n",
       "    <tr>\n",
       "      <th>SBUX</th>\n",
       "      <td>1.089010e+07</td>\n",
       "      <td>6.906700e+06</td>\n",
       "      <td>8.486000e+06</td>\n",
       "      <td>1.253860e+07</td>\n",
       "      <td>0.000000e+00</td>\n",
       "      <td>0.000000e+00</td>\n",
       "      <td>8.238600e+06</td>\n",
       "      <td>8.076600e+06</td>\n",
       "      <td>1.230640e+07</td>\n",
       "      <td>8.624800e+06</td>\n",
       "      <td>...</td>\n",
       "      <td>4.009000e+06</td>\n",
       "      <td>4.669800e+06</td>\n",
       "      <td>3.669400e+06</td>\n",
       "      <td>3.833200e+06</td>\n",
       "      <td>3.231200e+06</td>\n",
       "      <td>0.000000e+00</td>\n",
       "      <td>0.000000e+00</td>\n",
       "      <td>4.222400e+06</td>\n",
       "      <td>3.487300e+06</td>\n",
       "      <td>4.822000e+06</td>\n",
       "    </tr>\n",
       "    <tr>\n",
       "      <th>TSLA</th>\n",
       "      <td>7.025550e+07</td>\n",
       "      <td>4.945400e+07</td>\n",
       "      <td>4.875950e+07</td>\n",
       "      <td>4.339850e+07</td>\n",
       "      <td>0.000000e+00</td>\n",
       "      <td>0.000000e+00</td>\n",
       "      <td>3.181200e+07</td>\n",
       "      <td>3.182650e+07</td>\n",
       "      <td>5.479800e+07</td>\n",
       "      <td>4.627250e+07</td>\n",
       "      <td>...</td>\n",
       "      <td>2.254370e+07</td>\n",
       "      <td>2.605340e+07</td>\n",
       "      <td>1.658460e+07</td>\n",
       "      <td>2.391960e+07</td>\n",
       "      <td>1.620530e+07</td>\n",
       "      <td>0.000000e+00</td>\n",
       "      <td>0.000000e+00</td>\n",
       "      <td>2.042400e+07</td>\n",
       "      <td>1.776410e+07</td>\n",
       "      <td>2.214410e+07</td>\n",
       "    </tr>\n",
       "  </tbody>\n",
       "</table>\n",
       "<p>6 rows × 366 columns</p>\n",
       "</div>"
      ],
      "text/plain": [
       "                 2020-06-16    2020-06-17    2020-06-18    2020-06-19  \\\n",
       "Currency_Name                                                           \n",
       "BTC            2.156554e+10  2.017771e+10  1.777008e+10  1.963222e+10   \n",
       "DOGE           1.962126e+08  1.850835e+08  1.713886e+08  1.732810e+08   \n",
       "ETC            7.965648e+09  7.701391e+09  6.713801e+09  6.946373e+09   \n",
       "PFE            5.561694e+07  2.750982e+07  3.227886e+07  4.398626e+07   \n",
       "SBUX           1.089010e+07  6.906700e+06  8.486000e+06  1.253860e+07   \n",
       "TSLA           7.025550e+07  4.945400e+07  4.875950e+07  4.339850e+07   \n",
       "\n",
       "                 2020-06-20    2020-06-21    2020-06-22    2020-06-23  \\\n",
       "Currency_Name                                                           \n",
       "BTC            1.713054e+10  1.532430e+10  2.110401e+10  1.700643e+10   \n",
       "DOGE           1.582751e+08  1.699178e+08  1.735308e+08  1.716048e+08   \n",
       "ETC            6.252831e+09  5.600408e+09  9.079587e+09  6.624530e+09   \n",
       "PFE            0.000000e+00  0.000000e+00  2.333250e+07  3.769041e+07   \n",
       "SBUX           0.000000e+00  0.000000e+00  8.238600e+06  8.076600e+06   \n",
       "TSLA           0.000000e+00  0.000000e+00  3.181200e+07  3.182650e+07   \n",
       "\n",
       "                 2020-06-24    2020-06-25  ...    2021-06-07    2021-06-08  \\\n",
       "Currency_Name                              ...                               \n",
       "BTC            1.896172e+10  1.861605e+10  ...  3.368394e+10  4.990205e+10   \n",
       "DOGE           1.783808e+08  1.600034e+08  ...  3.043975e+09  3.918488e+09   \n",
       "ETC            8.815030e+09  7.010426e+09  ...  3.060011e+10  4.190974e+10   \n",
       "PFE            3.081770e+07  2.741865e+07  ...  2.411070e+07  1.888030e+07   \n",
       "SBUX           1.230640e+07  8.624800e+06  ...  4.009000e+06  4.669800e+06   \n",
       "TSLA           5.479800e+07  4.627250e+07  ...  2.254370e+07  2.605340e+07   \n",
       "\n",
       "                 2021-06-09    2021-06-10    2021-06-11    2021-06-12  \\\n",
       "Currency_Name                                                           \n",
       "BTC            5.397292e+10  4.357603e+10  3.869974e+10  3.792423e+10   \n",
       "DOGE           3.154333e+09  2.114010e+09  1.834447e+09  1.605634e+09   \n",
       "ETC            3.607583e+10  2.875363e+10  2.483256e+10  2.572436e+10   \n",
       "PFE            2.982400e+07  4.261370e+07  2.138690e+07  0.000000e+00   \n",
       "SBUX           3.669400e+06  3.833200e+06  3.231200e+06  0.000000e+00   \n",
       "TSLA           1.658460e+07  2.391960e+07  1.620530e+07  0.000000e+00   \n",
       "\n",
       "                 2021-06-13    2021-06-14    2021-06-15    2021-06-16  \n",
       "Currency_Name                                                          \n",
       "BTC            4.066911e+10  4.851313e+10  4.023153e+10  3.943359e+10  \n",
       "DOGE           1.484851e+09  1.822191e+09  1.504015e+09  1.460774e+09  \n",
       "ETC            2.709294e+10  2.778349e+10  2.607007e+10  2.370532e+10  \n",
       "PFE            0.000000e+00  2.340830e+07  2.020690e+07  1.917750e+07  \n",
       "SBUX           0.000000e+00  4.222400e+06  3.487300e+06  4.822000e+06  \n",
       "TSLA           0.000000e+00  2.042400e+07  1.776410e+07  2.214410e+07  \n",
       "\n",
       "[6 rows x 366 columns]"
      ]
     },
     "execution_count": 51,
     "metadata": {},
     "output_type": "execute_result"
    }
   ],
   "source": [
    "dft"
   ]
  },
  {
   "cell_type": "code",
   "execution_count": 52,
   "metadata": {},
   "outputs": [],
   "source": [
    "#dft.to_csv(\"rawvolume_transposed.csv\")"
   ]
  },
  {
   "cell_type": "code",
   "execution_count": 68,
   "metadata": {},
   "outputs": [],
   "source": [
    "from pyspark.sql import SparkSession\n",
    "spark = SparkSession.builder.getOrCreate()\n",
    "\n",
    "from pyspark.ml.clustering import KMeans\n",
    "from pyspark.ml.evaluation import ClusteringEvaluator\n",
    "from pyspark.ml.feature import VectorAssembler\n",
    "\n",
    "df_vol = spark.read.csv('/project/ds5559/group5_NL_EL_CJ/rawvolume_transposed.csv', header=True, inferSchema=True)"
   ]
  },
  {
   "cell_type": "code",
   "execution_count": 69,
   "metadata": {},
   "outputs": [
    {
     "name": "stdout",
     "output_type": "stream",
     "text": [
      "+--------------------+\n",
      "|            features|\n",
      "+--------------------+\n",
      "|[2.1565536E10,2.0...|\n",
      "|[1.9621262E8,1.85...|\n",
      "|[7.965648E9,7.701...|\n",
      "|[5.5616944E7,2.75...|\n",
      "|[1.08901E7,690670...|\n",
      "+--------------------+\n",
      "only showing top 5 rows\n",
      "\n"
     ]
    }
   ],
   "source": [
    "datefeatures = df_vol.columns[1:]\n",
    "assembler = VectorAssembler(inputCols=datefeatures, outputCol=\"features\")\n",
    "dataset=assembler.transform(df_vol)\n",
    "dataset.select(\"features\").show(5)"
   ]
  },
  {
   "cell_type": "code",
   "execution_count": 70,
   "metadata": {},
   "outputs": [],
   "source": [
    "kmeans = KMeans().setK(2).setSeed(314).setMaxIter(10)\n",
    "model = kmeans.fit(dataset)"
   ]
  },
  {
   "cell_type": "code",
   "execution_count": 71,
   "metadata": {},
   "outputs": [],
   "source": [
    "predictions = model.transform(dataset)"
   ]
  },
  {
   "cell_type": "code",
   "execution_count": 72,
   "metadata": {},
   "outputs": [
    {
     "name": "stdout",
     "output_type": "stream",
     "text": [
      "Silhouette with squared euclidean distance = 0.745242010588722\n"
     ]
    }
   ],
   "source": [
    "evaluator = ClusteringEvaluator()\n",
    "\n",
    "silhouette = evaluator.evaluate(predictions)\n",
    "\n",
    "print(\"Silhouette with squared euclidean distance = \" + str(silhouette))"
   ]
  },
  {
   "cell_type": "code",
   "execution_count": 73,
   "metadata": {},
   "outputs": [],
   "source": [
    "def kmeans_range(lower_bound, upper_bound, df):\n",
    "\n",
    "    silhouette_scores = []\n",
    "    k_means = []\n",
    "\n",
    "    for k in range(lower_bound, upper_bound+1):\n",
    "        kmeans = KMeans().setK(k).setSeed(314).setMaxIter(10)\n",
    "        model = kmeans.fit(df)\n",
    "        predictions = model.transform(df)\n",
    "        evaluator = ClusteringEvaluator()\n",
    "        silhouette = evaluator.evaluate(predictions)\n",
    "        silhouette_scores.append(silhouette)\n",
    "        k_means.append(k)\n",
    "    \n",
    "    df_kmeans = pd.DataFrame({'k': k_means,\n",
    "                             'silhouette_scores': silhouette_scores})\n",
    "    \n",
    "    return df_kmeans"
   ]
  },
  {
   "cell_type": "code",
   "execution_count": 74,
   "metadata": {},
   "outputs": [
    {
     "data": {
      "text/html": [
       "<div>\n",
       "<style scoped>\n",
       "    .dataframe tbody tr th:only-of-type {\n",
       "        vertical-align: middle;\n",
       "    }\n",
       "\n",
       "    .dataframe tbody tr th {\n",
       "        vertical-align: top;\n",
       "    }\n",
       "\n",
       "    .dataframe thead th {\n",
       "        text-align: right;\n",
       "    }\n",
       "</style>\n",
       "<table border=\"1\" class=\"dataframe\">\n",
       "  <thead>\n",
       "    <tr style=\"text-align: right;\">\n",
       "      <th></th>\n",
       "      <th>k</th>\n",
       "      <th>silhouette_scores</th>\n",
       "    </tr>\n",
       "  </thead>\n",
       "  <tbody>\n",
       "    <tr>\n",
       "      <th>0</th>\n",
       "      <td>2</td>\n",
       "      <td>0.745242</td>\n",
       "    </tr>\n",
       "    <tr>\n",
       "      <th>1</th>\n",
       "      <td>3</td>\n",
       "      <td>0.635162</td>\n",
       "    </tr>\n",
       "    <tr>\n",
       "      <th>2</th>\n",
       "      <td>4</td>\n",
       "      <td>0.499990</td>\n",
       "    </tr>\n",
       "    <tr>\n",
       "      <th>3</th>\n",
       "      <td>5</td>\n",
       "      <td>0.499990</td>\n",
       "    </tr>\n",
       "    <tr>\n",
       "      <th>4</th>\n",
       "      <td>6</td>\n",
       "      <td>0.499990</td>\n",
       "    </tr>\n",
       "    <tr>\n",
       "      <th>5</th>\n",
       "      <td>7</td>\n",
       "      <td>0.499990</td>\n",
       "    </tr>\n",
       "    <tr>\n",
       "      <th>6</th>\n",
       "      <td>8</td>\n",
       "      <td>0.499990</td>\n",
       "    </tr>\n",
       "    <tr>\n",
       "      <th>7</th>\n",
       "      <td>9</td>\n",
       "      <td>0.499990</td>\n",
       "    </tr>\n",
       "    <tr>\n",
       "      <th>8</th>\n",
       "      <td>10</td>\n",
       "      <td>0.499990</td>\n",
       "    </tr>\n",
       "  </tbody>\n",
       "</table>\n",
       "</div>"
      ],
      "text/plain": [
       "    k  silhouette_scores\n",
       "0   2           0.745242\n",
       "1   3           0.635162\n",
       "2   4           0.499990\n",
       "3   5           0.499990\n",
       "4   6           0.499990\n",
       "5   7           0.499990\n",
       "6   8           0.499990\n",
       "7   9           0.499990\n",
       "8  10           0.499990"
      ]
     },
     "execution_count": 74,
     "metadata": {},
     "output_type": "execute_result"
    }
   ],
   "source": [
    "df_kmeans = kmeans_range(2, 10, dataset)\n",
    "df_kmeans"
   ]
  },
  {
   "cell_type": "code",
   "execution_count": 75,
   "metadata": {},
   "outputs": [],
   "source": [
    "%matplotlib inline\n",
    "import matplotlib.pyplot as plt"
   ]
  },
  {
   "cell_type": "code",
   "execution_count": 76,
   "metadata": {},
   "outputs": [
    {
     "data": {
      "text/plain": [
       "Text(0.5, 1.0, 'Silhouette Scores by Cluster Numbers k')"
      ]
     },
     "execution_count": 76,
     "metadata": {},
     "output_type": "execute_result"
    },
    {
     "data": {
      "image/png": "[encoded data removed]",
      "text/plain": [
       "<Figure size 576x432 with 1 Axes>"
      ]
     },
     "metadata": {
      "needs_background": "light"
     },
     "output_type": "display_data"
    }
   ],
   "source": [
    "fig, ax = plt.subplots(1,1, figsize =(8,6))\n",
    "ax.plot(df_kmeans.k,df_kmeans.silhouette_scores)\n",
    "ax.set_xlabel('k')\n",
    "ax.set_ylabel('Silhouette Scores')\n",
    "ax.set_title('Silhouette Scores by Cluster Numbers k')"
   ]
  },
  {
   "cell_type": "code",
   "execution_count": 78,
   "metadata": {},
   "outputs": [],
   "source": [
    "KMeans_=KMeans(featuresCol='features', k=2) \n",
    "KMeans_Model=KMeans_.fit(dataset)\n",
    "KMeans_Assignments=KMeans_Model.transform(dataset)"
   ]
  },
  {
   "cell_type": "code",
   "execution_count": 79,
   "metadata": {},
   "outputs": [],
   "source": [
    "from pyspark.ml.feature import PCA as PCAml\n",
    "pca = PCAml(k=2, inputCol=\"features\", outputCol=\"pca\")\n",
    "pca_model = pca.fit(dataset)\n",
    "pca_transformed = pca_model.transform(dataset)"
   ]
  },
  {
   "cell_type": "code",
   "execution_count": 80,
   "metadata": {},
   "outputs": [],
   "source": [
    "x_pca = np.array(pca_transformed.rdd.map(lambda row: row.pca).collect())"
   ]
  },
  {
   "cell_type": "code",
   "execution_count": 81,
   "metadata": {},
   "outputs": [],
   "source": [
    "cluster_assignment = np.array(KMeans_Assignments.rdd.map(lambda row: row.prediction).collect()).reshape(-1,1)"
   ]
  },
  {
   "cell_type": "code",
   "execution_count": 92,
   "metadata": {},
   "outputs": [
    {
     "data": {
      "image/png": "[encoded data removed]",
      "text/plain": [
       "<Figure size 537.375x432 with 1 Axes>"
      ]
     },
     "metadata": {
      "needs_background": "light"
     },
     "output_type": "display_data"
    }
   ],
   "source": [
    "import seaborn as sns\n",
    "import matplotlib.pyplot as plt\n",
    "\n",
    "pca_data = np.hstack((x_pca,cluster_assignment))\n",
    "\n",
    "pca_df = pd.DataFrame(data=pca_data, columns=(\"1st_principal\", \"2nd_principal\", \"cluster_assignment\"))\n",
    "sns.FacetGrid(pca_df,hue=\"cluster_assignment\", height=6).map(plt.scatter, '1st_principal', '2nd_principal' ).add_legend()\n",
    "\n",
    "plt.show()"
   ]
  },
  {
   "cell_type": "code",
   "execution_count": 67,
   "metadata": {},
   "outputs": [
    {
     "data": {
      "text/html": [
       "<div>\n",
       "<style scoped>\n",
       "    .dataframe tbody tr th:only-of-type {\n",
       "        vertical-align: middle;\n",
       "    }\n",
       "\n",
       "    .dataframe tbody tr th {\n",
       "        vertical-align: top;\n",
       "    }\n",
       "\n",
       "    .dataframe thead th {\n",
       "        text-align: right;\n",
       "    }\n",
       "</style>\n",
       "<table border=\"1\" class=\"dataframe\">\n",
       "  <thead>\n",
       "    <tr style=\"text-align: right;\">\n",
       "      <th></th>\n",
       "      <th>1st_principal</th>\n",
       "      <th>2nd_principal</th>\n",
       "      <th>cluster_assignment</th>\n",
       "    </tr>\n",
       "  </thead>\n",
       "  <tbody>\n",
       "    <tr>\n",
       "      <th>0</th>\n",
       "      <td>-9.863196e+11</td>\n",
       "      <td>-4.203876e+10</td>\n",
       "      <td>0.0</td>\n",
       "    </tr>\n",
       "    <tr>\n",
       "      <th>1</th>\n",
       "      <td>-7.337664e+10</td>\n",
       "      <td>5.491785e+10</td>\n",
       "      <td>1.0</td>\n",
       "    </tr>\n",
       "    <tr>\n",
       "      <th>2</th>\n",
       "      <td>-4.901264e+11</td>\n",
       "      <td>1.760024e+11</td>\n",
       "      <td>0.0</td>\n",
       "    </tr>\n",
       "    <tr>\n",
       "      <th>3</th>\n",
       "      <td>-3.957583e+08</td>\n",
       "      <td>2.076241e+07</td>\n",
       "      <td>1.0</td>\n",
       "    </tr>\n",
       "    <tr>\n",
       "      <th>4</th>\n",
       "      <td>-7.838817e+07</td>\n",
       "      <td>9.966075e+05</td>\n",
       "      <td>1.0</td>\n",
       "    </tr>\n",
       "    <tr>\n",
       "      <th>5</th>\n",
       "      <td>-5.020046e+08</td>\n",
       "      <td>1.671598e+07</td>\n",
       "      <td>1.0</td>\n",
       "    </tr>\n",
       "  </tbody>\n",
       "</table>\n",
       "</div>"
      ],
      "text/plain": [
       "   1st_principal  2nd_principal  cluster_assignment\n",
       "0  -9.863196e+11  -4.203876e+10                 0.0\n",
       "1  -7.337664e+10   5.491785e+10                 1.0\n",
       "2  -4.901264e+11   1.760024e+11                 0.0\n",
       "3  -3.957583e+08   2.076241e+07                 1.0\n",
       "4  -7.838817e+07   9.966075e+05                 1.0\n",
       "5  -5.020046e+08   1.671598e+07                 1.0"
      ]
     },
     "execution_count": 67,
     "metadata": {},
     "output_type": "execute_result"
    }
   ],
   "source": [
    "pca_df "
   ]
  },
  {
   "cell_type": "markdown",
   "metadata": {},
   "source": [
    "#### KMeans for Percentage Difference Volume"
   ]
  },
  {
   "cell_type": "code",
   "execution_count": 128,
   "metadata": {},
   "outputs": [
    {
     "data": {
      "text/html": [
       "<div>\n",
       "<style scoped>\n",
       "    .dataframe tbody tr th:only-of-type {\n",
       "        vertical-align: middle;\n",
       "    }\n",
       "\n",
       "    .dataframe tbody tr th {\n",
       "        vertical-align: top;\n",
       "    }\n",
       "\n",
       "    .dataframe thead th {\n",
       "        text-align: right;\n",
       "    }\n",
       "</style>\n",
       "<table border=\"1\" class=\"dataframe\">\n",
       "  <thead>\n",
       "    <tr style=\"text-align: right;\">\n",
       "      <th></th>\n",
       "      <th>Date</th>\n",
       "      <th>Open</th>\n",
       "      <th>High</th>\n",
       "      <th>Low</th>\n",
       "      <th>Close</th>\n",
       "      <th>Adj Close</th>\n",
       "      <th>Volume</th>\n",
       "      <th>Currency_Type</th>\n",
       "      <th>Currency_Name</th>\n",
       "      <th>prev_value_open</th>\n",
       "      <th>...</th>\n",
       "      <th>prev_value_close</th>\n",
       "      <th>perc_diff_close</th>\n",
       "      <th>prev_value_high</th>\n",
       "      <th>perc_diff_high</th>\n",
       "      <th>prev_value_low</th>\n",
       "      <th>perc_diff_low</th>\n",
       "      <th>prev_value_adjclose</th>\n",
       "      <th>perc_diff_adjclose</th>\n",
       "      <th>prev_value_volume</th>\n",
       "      <th>perc_diff_volume</th>\n",
       "    </tr>\n",
       "  </thead>\n",
       "  <tbody>\n",
       "    <tr>\n",
       "      <th>0</th>\n",
       "      <td>2020-06-16</td>\n",
       "      <td>202.369995</td>\n",
       "      <td>202.576004</td>\n",
       "      <td>192.477997</td>\n",
       "      <td>196.425995</td>\n",
       "      <td>196.425995</td>\n",
       "      <td>7.025550e+07</td>\n",
       "      <td>0</td>\n",
       "      <td>TSLA</td>\n",
       "      <td>NaN</td>\n",
       "      <td>...</td>\n",
       "      <td>NaN</td>\n",
       "      <td>0.000000</td>\n",
       "      <td>NaN</td>\n",
       "      <td>0.000000</td>\n",
       "      <td>NaN</td>\n",
       "      <td>0.000000</td>\n",
       "      <td>NaN</td>\n",
       "      <td>0.000000</td>\n",
       "      <td>NaN</td>\n",
       "      <td>0.000000</td>\n",
       "    </tr>\n",
       "    <tr>\n",
       "      <th>1</th>\n",
       "      <td>2020-06-17</td>\n",
       "      <td>197.542007</td>\n",
       "      <td>201.000000</td>\n",
       "      <td>196.514008</td>\n",
       "      <td>198.358002</td>\n",
       "      <td>198.358002</td>\n",
       "      <td>4.945400e+07</td>\n",
       "      <td>0</td>\n",
       "      <td>TSLA</td>\n",
       "      <td>202.369995</td>\n",
       "      <td>...</td>\n",
       "      <td>196.425995</td>\n",
       "      <td>0.009836</td>\n",
       "      <td>202.576004</td>\n",
       "      <td>-0.007780</td>\n",
       "      <td>192.477997</td>\n",
       "      <td>0.020969</td>\n",
       "      <td>196.425995</td>\n",
       "      <td>0.009836</td>\n",
       "      <td>7.025550e+07</td>\n",
       "      <td>-0.296084</td>\n",
       "    </tr>\n",
       "    <tr>\n",
       "      <th>2</th>\n",
       "      <td>2020-06-18</td>\n",
       "      <td>200.600006</td>\n",
       "      <td>203.839996</td>\n",
       "      <td>198.893997</td>\n",
       "      <td>200.792007</td>\n",
       "      <td>200.792007</td>\n",
       "      <td>4.875950e+07</td>\n",
       "      <td>0</td>\n",
       "      <td>TSLA</td>\n",
       "      <td>197.542007</td>\n",
       "      <td>...</td>\n",
       "      <td>198.358002</td>\n",
       "      <td>0.012271</td>\n",
       "      <td>201.000000</td>\n",
       "      <td>0.014129</td>\n",
       "      <td>196.514008</td>\n",
       "      <td>0.012111</td>\n",
       "      <td>198.358002</td>\n",
       "      <td>0.012271</td>\n",
       "      <td>4.945400e+07</td>\n",
       "      <td>-0.014043</td>\n",
       "    </tr>\n",
       "    <tr>\n",
       "      <th>3</th>\n",
       "      <td>2020-06-19</td>\n",
       "      <td>202.556000</td>\n",
       "      <td>203.194000</td>\n",
       "      <td>198.268005</td>\n",
       "      <td>200.179993</td>\n",
       "      <td>200.179993</td>\n",
       "      <td>4.339850e+07</td>\n",
       "      <td>0</td>\n",
       "      <td>TSLA</td>\n",
       "      <td>200.600006</td>\n",
       "      <td>...</td>\n",
       "      <td>200.792007</td>\n",
       "      <td>-0.003048</td>\n",
       "      <td>203.839996</td>\n",
       "      <td>-0.003169</td>\n",
       "      <td>198.893997</td>\n",
       "      <td>-0.003147</td>\n",
       "      <td>200.792007</td>\n",
       "      <td>-0.003048</td>\n",
       "      <td>4.875950e+07</td>\n",
       "      <td>-0.109948</td>\n",
       "    </tr>\n",
       "    <tr>\n",
       "      <th>4</th>\n",
       "      <td>2020-06-22</td>\n",
       "      <td>199.990005</td>\n",
       "      <td>201.776001</td>\n",
       "      <td>198.003998</td>\n",
       "      <td>198.863998</td>\n",
       "      <td>198.863998</td>\n",
       "      <td>3.181200e+07</td>\n",
       "      <td>0</td>\n",
       "      <td>TSLA</td>\n",
       "      <td>202.556000</td>\n",
       "      <td>...</td>\n",
       "      <td>200.179993</td>\n",
       "      <td>-0.006574</td>\n",
       "      <td>203.194000</td>\n",
       "      <td>-0.006979</td>\n",
       "      <td>198.268005</td>\n",
       "      <td>-0.001332</td>\n",
       "      <td>200.179993</td>\n",
       "      <td>-0.006574</td>\n",
       "      <td>4.339850e+07</td>\n",
       "      <td>-0.266979</td>\n",
       "    </tr>\n",
       "    <tr>\n",
       "      <th>...</th>\n",
       "      <td>...</td>\n",
       "      <td>...</td>\n",
       "      <td>...</td>\n",
       "      <td>...</td>\n",
       "      <td>...</td>\n",
       "      <td>...</td>\n",
       "      <td>...</td>\n",
       "      <td>...</td>\n",
       "      <td>...</td>\n",
       "      <td>...</td>\n",
       "      <td>...</td>\n",
       "      <td>...</td>\n",
       "      <td>...</td>\n",
       "      <td>...</td>\n",
       "      <td>...</td>\n",
       "      <td>...</td>\n",
       "      <td>...</td>\n",
       "      <td>...</td>\n",
       "      <td>...</td>\n",
       "      <td>...</td>\n",
       "      <td>...</td>\n",
       "    </tr>\n",
       "    <tr>\n",
       "      <th>1843</th>\n",
       "      <td>2021-06-12</td>\n",
       "      <td>37340.144531</td>\n",
       "      <td>37408.925781</td>\n",
       "      <td>34728.191406</td>\n",
       "      <td>35552.515625</td>\n",
       "      <td>35552.515625</td>\n",
       "      <td>3.792423e+10</td>\n",
       "      <td>1</td>\n",
       "      <td>BTC</td>\n",
       "      <td>36697.031250</td>\n",
       "      <td>...</td>\n",
       "      <td>37334.398438</td>\n",
       "      <td>-0.047728</td>\n",
       "      <td>37608.695312</td>\n",
       "      <td>-0.005312</td>\n",
       "      <td>36044.449219</td>\n",
       "      <td>-0.036518</td>\n",
       "      <td>37334.398438</td>\n",
       "      <td>-0.047728</td>\n",
       "      <td>3.869974e+10</td>\n",
       "      <td>-0.020039</td>\n",
       "    </tr>\n",
       "    <tr>\n",
       "      <th>1844</th>\n",
       "      <td>2021-06-13</td>\n",
       "      <td>35555.789062</td>\n",
       "      <td>39322.781250</td>\n",
       "      <td>34864.109375</td>\n",
       "      <td>39097.859375</td>\n",
       "      <td>39097.859375</td>\n",
       "      <td>4.066911e+10</td>\n",
       "      <td>1</td>\n",
       "      <td>BTC</td>\n",
       "      <td>37340.144531</td>\n",
       "      <td>...</td>\n",
       "      <td>35552.515625</td>\n",
       "      <td>0.099721</td>\n",
       "      <td>37408.925781</td>\n",
       "      <td>0.051160</td>\n",
       "      <td>34728.191406</td>\n",
       "      <td>0.003914</td>\n",
       "      <td>35552.515625</td>\n",
       "      <td>0.099721</td>\n",
       "      <td>3.792423e+10</td>\n",
       "      <td>0.072378</td>\n",
       "    </tr>\n",
       "    <tr>\n",
       "      <th>1845</th>\n",
       "      <td>2021-06-14</td>\n",
       "      <td>39016.968750</td>\n",
       "      <td>40978.363281</td>\n",
       "      <td>38757.285156</td>\n",
       "      <td>40536.070312</td>\n",
       "      <td>40536.070312</td>\n",
       "      <td>4.851313e+10</td>\n",
       "      <td>1</td>\n",
       "      <td>BTC</td>\n",
       "      <td>35555.789062</td>\n",
       "      <td>...</td>\n",
       "      <td>39097.859375</td>\n",
       "      <td>0.036785</td>\n",
       "      <td>39322.781250</td>\n",
       "      <td>0.042102</td>\n",
       "      <td>34864.109375</td>\n",
       "      <td>0.111667</td>\n",
       "      <td>39097.859375</td>\n",
       "      <td>0.036785</td>\n",
       "      <td>4.066911e+10</td>\n",
       "      <td>0.192874</td>\n",
       "    </tr>\n",
       "    <tr>\n",
       "      <th>1846</th>\n",
       "      <td>2021-06-15</td>\n",
       "      <td>40526.781250</td>\n",
       "      <td>41295.269531</td>\n",
       "      <td>39609.468750</td>\n",
       "      <td>40155.296875</td>\n",
       "      <td>40155.296875</td>\n",
       "      <td>4.023153e+10</td>\n",
       "      <td>1</td>\n",
       "      <td>BTC</td>\n",
       "      <td>39016.968750</td>\n",
       "      <td>...</td>\n",
       "      <td>40536.070312</td>\n",
       "      <td>-0.009393</td>\n",
       "      <td>40978.363281</td>\n",
       "      <td>0.007734</td>\n",
       "      <td>38757.285156</td>\n",
       "      <td>0.021988</td>\n",
       "      <td>40536.070312</td>\n",
       "      <td>-0.009393</td>\n",
       "      <td>4.851313e+10</td>\n",
       "      <td>-0.170708</td>\n",
       "    </tr>\n",
       "    <tr>\n",
       "      <th>1847</th>\n",
       "      <td>2021-06-16</td>\n",
       "      <td>40023.757812</td>\n",
       "      <td>40472.218750</td>\n",
       "      <td>38562.894531</td>\n",
       "      <td>38692.386719</td>\n",
       "      <td>38692.386719</td>\n",
       "      <td>3.943359e+10</td>\n",
       "      <td>1</td>\n",
       "      <td>BTC</td>\n",
       "      <td>40526.781250</td>\n",
       "      <td>...</td>\n",
       "      <td>40155.296875</td>\n",
       "      <td>-0.036431</td>\n",
       "      <td>41295.269531</td>\n",
       "      <td>-0.019931</td>\n",
       "      <td>39609.468750</td>\n",
       "      <td>-0.026422</td>\n",
       "      <td>40155.296875</td>\n",
       "      <td>-0.036431</td>\n",
       "      <td>4.023153e+10</td>\n",
       "      <td>-0.019834</td>\n",
       "    </tr>\n",
       "  </tbody>\n",
       "</table>\n",
       "<p>1848 rows × 21 columns</p>\n",
       "</div>"
      ],
      "text/plain": [
       "            Date          Open          High           Low         Close  \\\n",
       "0     2020-06-16    202.369995    202.576004    192.477997    196.425995   \n",
       "1     2020-06-17    197.542007    201.000000    196.514008    198.358002   \n",
       "2     2020-06-18    200.600006    203.839996    198.893997    200.792007   \n",
       "3     2020-06-19    202.556000    203.194000    198.268005    200.179993   \n",
       "4     2020-06-22    199.990005    201.776001    198.003998    198.863998   \n",
       "...          ...           ...           ...           ...           ...   \n",
       "1843  2021-06-12  37340.144531  37408.925781  34728.191406  35552.515625   \n",
       "1844  2021-06-13  35555.789062  39322.781250  34864.109375  39097.859375   \n",
       "1845  2021-06-14  39016.968750  40978.363281  38757.285156  40536.070312   \n",
       "1846  2021-06-15  40526.781250  41295.269531  39609.468750  40155.296875   \n",
       "1847  2021-06-16  40023.757812  40472.218750  38562.894531  38692.386719   \n",
       "\n",
       "         Adj Close        Volume  Currency_Type Currency_Name  \\\n",
       "0       196.425995  7.025550e+07              0          TSLA   \n",
       "1       198.358002  4.945400e+07              0          TSLA   \n",
       "2       200.792007  4.875950e+07              0          TSLA   \n",
       "3       200.179993  4.339850e+07              0          TSLA   \n",
       "4       198.863998  3.181200e+07              0          TSLA   \n",
       "...            ...           ...            ...           ...   \n",
       "1843  35552.515625  3.792423e+10              1           BTC   \n",
       "1844  39097.859375  4.066911e+10              1           BTC   \n",
       "1845  40536.070312  4.851313e+10              1           BTC   \n",
       "1846  40155.296875  4.023153e+10              1           BTC   \n",
       "1847  38692.386719  3.943359e+10              1           BTC   \n",
       "\n",
       "      prev_value_open  ...  prev_value_close  perc_diff_close  \\\n",
       "0                 NaN  ...               NaN         0.000000   \n",
       "1          202.369995  ...        196.425995         0.009836   \n",
       "2          197.542007  ...        198.358002         0.012271   \n",
       "3          200.600006  ...        200.792007        -0.003048   \n",
       "4          202.556000  ...        200.179993        -0.006574   \n",
       "...               ...  ...               ...              ...   \n",
       "1843     36697.031250  ...      37334.398438        -0.047728   \n",
       "1844     37340.144531  ...      35552.515625         0.099721   \n",
       "1845     35555.789062  ...      39097.859375         0.036785   \n",
       "1846     39016.968750  ...      40536.070312        -0.009393   \n",
       "1847     40526.781250  ...      40155.296875        -0.036431   \n",
       "\n",
       "      prev_value_high  perc_diff_high  prev_value_low  perc_diff_low  \\\n",
       "0                 NaN        0.000000             NaN       0.000000   \n",
       "1          202.576004       -0.007780      192.477997       0.020969   \n",
       "2          201.000000        0.014129      196.514008       0.012111   \n",
       "3          203.839996       -0.003169      198.893997      -0.003147   \n",
       "4          203.194000       -0.006979      198.268005      -0.001332   \n",
       "...               ...             ...             ...            ...   \n",
       "1843     37608.695312       -0.005312    36044.449219      -0.036518   \n",
       "1844     37408.925781        0.051160    34728.191406       0.003914   \n",
       "1845     39322.781250        0.042102    34864.109375       0.111667   \n",
       "1846     40978.363281        0.007734    38757.285156       0.021988   \n",
       "1847     41295.269531       -0.019931    39609.468750      -0.026422   \n",
       "\n",
       "      prev_value_adjclose  perc_diff_adjclose  prev_value_volume  \\\n",
       "0                     NaN            0.000000                NaN   \n",
       "1              196.425995            0.009836       7.025550e+07   \n",
       "2              198.358002            0.012271       4.945400e+07   \n",
       "3              200.792007           -0.003048       4.875950e+07   \n",
       "4              200.179993           -0.006574       4.339850e+07   \n",
       "...                   ...                 ...                ...   \n",
       "1843         37334.398438           -0.047728       3.869974e+10   \n",
       "1844         35552.515625            0.099721       3.792423e+10   \n",
       "1845         39097.859375            0.036785       4.066911e+10   \n",
       "1846         40536.070312           -0.009393       4.851313e+10   \n",
       "1847         40155.296875           -0.036431       4.023153e+10   \n",
       "\n",
       "      perc_diff_volume  \n",
       "0             0.000000  \n",
       "1            -0.296084  \n",
       "2            -0.014043  \n",
       "3            -0.109948  \n",
       "4            -0.266979  \n",
       "...                ...  \n",
       "1843         -0.020039  \n",
       "1844          0.072378  \n",
       "1845          0.192874  \n",
       "1846         -0.170708  \n",
       "1847         -0.019834  \n",
       "\n",
       "[1848 rows x 21 columns]"
      ]
     },
     "execution_count": 128,
     "metadata": {},
     "output_type": "execute_result"
    }
   ],
   "source": [
    "df_pandas"
   ]
  },
  {
   "cell_type": "code",
   "execution_count": 129,
   "metadata": {},
   "outputs": [],
   "source": [
    "# perc_diff_open\n",
    "volumedf = df_pandas[['Date', 'Currency_Name', 'perc_diff_volume']]"
   ]
  },
  {
   "cell_type": "code",
   "execution_count": 130,
   "metadata": {},
   "outputs": [
    {
     "data": {
      "text/html": [
       "<div>\n",
       "<style scoped>\n",
       "    .dataframe tbody tr th:only-of-type {\n",
       "        vertical-align: middle;\n",
       "    }\n",
       "\n",
       "    .dataframe tbody tr th {\n",
       "        vertical-align: top;\n",
       "    }\n",
       "\n",
       "    .dataframe thead th {\n",
       "        text-align: right;\n",
       "    }\n",
       "</style>\n",
       "<table border=\"1\" class=\"dataframe\">\n",
       "  <thead>\n",
       "    <tr style=\"text-align: right;\">\n",
       "      <th>Currency_Name</th>\n",
       "      <th>Date</th>\n",
       "      <th>BTC</th>\n",
       "      <th>DOGE</th>\n",
       "      <th>ETC</th>\n",
       "      <th>PFE</th>\n",
       "      <th>SBUX</th>\n",
       "      <th>TSLA</th>\n",
       "    </tr>\n",
       "  </thead>\n",
       "  <tbody>\n",
       "    <tr>\n",
       "      <th>0</th>\n",
       "      <td>2020-06-16</td>\n",
       "      <td>0.000000</td>\n",
       "      <td>0.000000</td>\n",
       "      <td>0.000000</td>\n",
       "      <td>0.000000</td>\n",
       "      <td>0.000000</td>\n",
       "      <td>0.000000</td>\n",
       "    </tr>\n",
       "    <tr>\n",
       "      <th>1</th>\n",
       "      <td>2020-06-17</td>\n",
       "      <td>-0.064354</td>\n",
       "      <td>-0.056720</td>\n",
       "      <td>-0.033175</td>\n",
       "      <td>-0.505370</td>\n",
       "      <td>-0.365782</td>\n",
       "      <td>-0.296084</td>\n",
       "    </tr>\n",
       "    <tr>\n",
       "      <th>2</th>\n",
       "      <td>2020-06-18</td>\n",
       "      <td>-0.119321</td>\n",
       "      <td>-0.073993</td>\n",
       "      <td>-0.128235</td>\n",
       "      <td>0.173358</td>\n",
       "      <td>0.228662</td>\n",
       "      <td>-0.014043</td>\n",
       "    </tr>\n",
       "    <tr>\n",
       "      <th>3</th>\n",
       "      <td>2020-06-19</td>\n",
       "      <td>0.104791</td>\n",
       "      <td>0.011041</td>\n",
       "      <td>0.034641</td>\n",
       "      <td>0.362696</td>\n",
       "      <td>0.477563</td>\n",
       "      <td>-0.109948</td>\n",
       "    </tr>\n",
       "    <tr>\n",
       "      <th>4</th>\n",
       "      <td>2020-06-20</td>\n",
       "      <td>-0.127427</td>\n",
       "      <td>-0.086599</td>\n",
       "      <td>-0.099842</td>\n",
       "      <td>0.000000</td>\n",
       "      <td>0.000000</td>\n",
       "      <td>0.000000</td>\n",
       "    </tr>\n",
       "    <tr>\n",
       "      <th>...</th>\n",
       "      <td>...</td>\n",
       "      <td>...</td>\n",
       "      <td>...</td>\n",
       "      <td>...</td>\n",
       "      <td>...</td>\n",
       "      <td>...</td>\n",
       "      <td>...</td>\n",
       "    </tr>\n",
       "    <tr>\n",
       "      <th>361</th>\n",
       "      <td>2021-06-12</td>\n",
       "      <td>-0.020039</td>\n",
       "      <td>-0.124731</td>\n",
       "      <td>0.035913</td>\n",
       "      <td>0.000000</td>\n",
       "      <td>0.000000</td>\n",
       "      <td>0.000000</td>\n",
       "    </tr>\n",
       "    <tr>\n",
       "      <th>362</th>\n",
       "      <td>2021-06-13</td>\n",
       "      <td>0.072378</td>\n",
       "      <td>-0.075224</td>\n",
       "      <td>0.053202</td>\n",
       "      <td>0.000000</td>\n",
       "      <td>0.000000</td>\n",
       "      <td>0.000000</td>\n",
       "    </tr>\n",
       "    <tr>\n",
       "      <th>363</th>\n",
       "      <td>2021-06-14</td>\n",
       "      <td>0.192874</td>\n",
       "      <td>0.227187</td>\n",
       "      <td>0.025488</td>\n",
       "      <td>0.094516</td>\n",
       "      <td>0.306759</td>\n",
       "      <td>0.260328</td>\n",
       "    </tr>\n",
       "    <tr>\n",
       "      <th>364</th>\n",
       "      <td>2021-06-15</td>\n",
       "      <td>-0.170708</td>\n",
       "      <td>-0.174612</td>\n",
       "      <td>-0.061670</td>\n",
       "      <td>-0.136763</td>\n",
       "      <td>-0.174095</td>\n",
       "      <td>-0.130234</td>\n",
       "    </tr>\n",
       "    <tr>\n",
       "      <th>365</th>\n",
       "      <td>2021-06-16</td>\n",
       "      <td>-0.019834</td>\n",
       "      <td>-0.028751</td>\n",
       "      <td>-0.090708</td>\n",
       "      <td>-0.050943</td>\n",
       "      <td>0.382732</td>\n",
       "      <td>0.246565</td>\n",
       "    </tr>\n",
       "  </tbody>\n",
       "</table>\n",
       "<p>366 rows × 7 columns</p>\n",
       "</div>"
      ],
      "text/plain": [
       "Currency_Name        Date       BTC      DOGE       ETC       PFE      SBUX  \\\n",
       "0              2020-06-16  0.000000  0.000000  0.000000  0.000000  0.000000   \n",
       "1              2020-06-17 -0.064354 -0.056720 -0.033175 -0.505370 -0.365782   \n",
       "2              2020-06-18 -0.119321 -0.073993 -0.128235  0.173358  0.228662   \n",
       "3              2020-06-19  0.104791  0.011041  0.034641  0.362696  0.477563   \n",
       "4              2020-06-20 -0.127427 -0.086599 -0.099842  0.000000  0.000000   \n",
       "..                    ...       ...       ...       ...       ...       ...   \n",
       "361            2021-06-12 -0.020039 -0.124731  0.035913  0.000000  0.000000   \n",
       "362            2021-06-13  0.072378 -0.075224  0.053202  0.000000  0.000000   \n",
       "363            2021-06-14  0.192874  0.227187  0.025488  0.094516  0.306759   \n",
       "364            2021-06-15 -0.170708 -0.174612 -0.061670 -0.136763 -0.174095   \n",
       "365            2021-06-16 -0.019834 -0.028751 -0.090708 -0.050943  0.382732   \n",
       "\n",
       "Currency_Name      TSLA  \n",
       "0              0.000000  \n",
       "1             -0.296084  \n",
       "2             -0.014043  \n",
       "3             -0.109948  \n",
       "4              0.000000  \n",
       "..                  ...  \n",
       "361            0.000000  \n",
       "362            0.000000  \n",
       "363            0.260328  \n",
       "364           -0.130234  \n",
       "365            0.246565  \n",
       "\n",
       "[366 rows x 7 columns]"
      ]
     },
     "execution_count": 130,
     "metadata": {},
     "output_type": "execute_result"
    }
   ],
   "source": [
    "volumedf_clean = volumedf.pivot_table(index=['Date'], \n",
    "                                  columns='Currency_Name', \n",
    "                                  values='perc_diff_volume')\n",
    "volumedf_clean = volumedf_clean.reset_index()\n",
    "volumedf_clean = volumedf_clean.fillna(0)\n",
    "volumedf_clean"
   ]
  },
  {
   "cell_type": "code",
   "execution_count": 131,
   "metadata": {},
   "outputs": [
    {
     "data": {
      "text/plain": [
       "['BTC', 'DOGE', 'ETC', 'PFE', 'SBUX', 'TSLA']"
      ]
     },
     "execution_count": 131,
     "metadata": {},
     "output_type": "execute_result"
    }
   ],
   "source": [
    "tickers = list(volumedf_clean.columns[1:])\n",
    "tickers"
   ]
  },
  {
   "cell_type": "code",
   "execution_count": 132,
   "metadata": {},
   "outputs": [
    {
     "data": {
      "text/plain": [
       "array([datetime.date(2020, 6, 16), datetime.date(2020, 6, 17),\n",
       "       datetime.date(2020, 6, 18), datetime.date(2020, 6, 19),\n",
       "       datetime.date(2020, 6, 20)], dtype=object)"
      ]
     },
     "execution_count": 132,
     "metadata": {},
     "output_type": "execute_result"
    }
   ],
   "source": [
    "dates = volumedf_clean.Date.values\n",
    "dates[:5]"
   ]
  },
  {
   "cell_type": "code",
   "execution_count": 133,
   "metadata": {},
   "outputs": [],
   "source": [
    "del volumedf_clean['Date']"
   ]
  },
  {
   "cell_type": "code",
   "execution_count": 134,
   "metadata": {},
   "outputs": [],
   "source": [
    "vals = volumedf_clean.values"
   ]
  },
  {
   "cell_type": "code",
   "execution_count": 135,
   "metadata": {},
   "outputs": [],
   "source": [
    "vals_t = vals.transpose()"
   ]
  },
  {
   "cell_type": "code",
   "execution_count": 136,
   "metadata": {},
   "outputs": [
    {
     "data": {
      "text/plain": [
       "array([[ 0.        , -0.06435394, -0.11932112, ...,  0.19287393,\n",
       "        -0.17070835, -0.01983364],\n",
       "       [ 0.        , -0.05671961, -0.07399315, ...,  0.22718747,\n",
       "        -0.17461176, -0.02875052],\n",
       "       [ 0.        , -0.03317452, -0.12823536, ...,  0.02548791,\n",
       "        -0.06167023, -0.09070753],\n",
       "       [ 0.        , -0.50536977,  0.1733575 , ...,  0.0945158 ,\n",
       "        -0.13676346, -0.05094299],\n",
       "       [ 0.        , -0.36578177,  0.22866202, ...,  0.3067591 ,\n",
       "        -0.1740953 ,  0.38273163],\n",
       "       [ 0.        , -0.29608362, -0.01404335, ...,  0.26032841,\n",
       "        -0.13023404,  0.2465647 ]])"
      ]
     },
     "execution_count": 136,
     "metadata": {},
     "output_type": "execute_result"
    }
   ],
   "source": [
    "vals_t"
   ]
  },
  {
   "cell_type": "code",
   "execution_count": 137,
   "metadata": {},
   "outputs": [],
   "source": [
    "dft = pd.DataFrame(data=vals_t, index=volumedf_clean.columns, columns=dates)"
   ]
  },
  {
   "cell_type": "code",
   "execution_count": 138,
   "metadata": {},
   "outputs": [
    {
     "data": {
      "text/html": [
       "<div>\n",
       "<style scoped>\n",
       "    .dataframe tbody tr th:only-of-type {\n",
       "        vertical-align: middle;\n",
       "    }\n",
       "\n",
       "    .dataframe tbody tr th {\n",
       "        vertical-align: top;\n",
       "    }\n",
       "\n",
       "    .dataframe thead th {\n",
       "        text-align: right;\n",
       "    }\n",
       "</style>\n",
       "<table border=\"1\" class=\"dataframe\">\n",
       "  <thead>\n",
       "    <tr style=\"text-align: right;\">\n",
       "      <th></th>\n",
       "      <th>2020-06-16</th>\n",
       "      <th>2020-06-17</th>\n",
       "      <th>2020-06-18</th>\n",
       "      <th>2020-06-19</th>\n",
       "      <th>2020-06-20</th>\n",
       "      <th>2020-06-21</th>\n",
       "      <th>2020-06-22</th>\n",
       "      <th>2020-06-23</th>\n",
       "      <th>2020-06-24</th>\n",
       "      <th>2020-06-25</th>\n",
       "      <th>...</th>\n",
       "      <th>2021-06-07</th>\n",
       "      <th>2021-06-08</th>\n",
       "      <th>2021-06-09</th>\n",
       "      <th>2021-06-10</th>\n",
       "      <th>2021-06-11</th>\n",
       "      <th>2021-06-12</th>\n",
       "      <th>2021-06-13</th>\n",
       "      <th>2021-06-14</th>\n",
       "      <th>2021-06-15</th>\n",
       "      <th>2021-06-16</th>\n",
       "    </tr>\n",
       "    <tr>\n",
       "      <th>Currency_Name</th>\n",
       "      <th></th>\n",
       "      <th></th>\n",
       "      <th></th>\n",
       "      <th></th>\n",
       "      <th></th>\n",
       "      <th></th>\n",
       "      <th></th>\n",
       "      <th></th>\n",
       "      <th></th>\n",
       "      <th></th>\n",
       "      <th></th>\n",
       "      <th></th>\n",
       "      <th></th>\n",
       "      <th></th>\n",
       "      <th></th>\n",
       "      <th></th>\n",
       "      <th></th>\n",
       "      <th></th>\n",
       "      <th></th>\n",
       "      <th></th>\n",
       "      <th></th>\n",
       "    </tr>\n",
       "  </thead>\n",
       "  <tbody>\n",
       "    <tr>\n",
       "      <th>BTC</th>\n",
       "      <td>0.0</td>\n",
       "      <td>-0.064354</td>\n",
       "      <td>-0.119321</td>\n",
       "      <td>0.104791</td>\n",
       "      <td>-0.127427</td>\n",
       "      <td>-0.10544</td>\n",
       "      <td>0.377160</td>\n",
       "      <td>-0.194161</td>\n",
       "      <td>0.114973</td>\n",
       "      <td>-0.018230</td>\n",
       "      <td>...</td>\n",
       "      <td>0.164992</td>\n",
       "      <td>0.481479</td>\n",
       "      <td>0.081577</td>\n",
       "      <td>-0.192632</td>\n",
       "      <td>-0.111903</td>\n",
       "      <td>-0.020039</td>\n",
       "      <td>0.072378</td>\n",
       "      <td>0.192874</td>\n",
       "      <td>-0.170708</td>\n",
       "      <td>-0.019834</td>\n",
       "    </tr>\n",
       "    <tr>\n",
       "      <th>DOGE</th>\n",
       "      <td>0.0</td>\n",
       "      <td>-0.056720</td>\n",
       "      <td>-0.073993</td>\n",
       "      <td>0.011041</td>\n",
       "      <td>-0.086599</td>\n",
       "      <td>0.07356</td>\n",
       "      <td>0.021264</td>\n",
       "      <td>-0.011099</td>\n",
       "      <td>0.039486</td>\n",
       "      <td>-0.103023</td>\n",
       "      <td>...</td>\n",
       "      <td>0.657386</td>\n",
       "      <td>0.287293</td>\n",
       "      <td>-0.195013</td>\n",
       "      <td>-0.329807</td>\n",
       "      <td>-0.132243</td>\n",
       "      <td>-0.124731</td>\n",
       "      <td>-0.075224</td>\n",
       "      <td>0.227187</td>\n",
       "      <td>-0.174612</td>\n",
       "      <td>-0.028751</td>\n",
       "    </tr>\n",
       "    <tr>\n",
       "      <th>ETC</th>\n",
       "      <td>0.0</td>\n",
       "      <td>-0.033175</td>\n",
       "      <td>-0.128235</td>\n",
       "      <td>0.034641</td>\n",
       "      <td>-0.099842</td>\n",
       "      <td>-0.10434</td>\n",
       "      <td>0.621237</td>\n",
       "      <td>-0.270393</td>\n",
       "      <td>0.330665</td>\n",
       "      <td>-0.204719</td>\n",
       "      <td>...</td>\n",
       "      <td>0.208934</td>\n",
       "      <td>0.369594</td>\n",
       "      <td>-0.139202</td>\n",
       "      <td>-0.202967</td>\n",
       "      <td>-0.136368</td>\n",
       "      <td>0.035913</td>\n",
       "      <td>0.053202</td>\n",
       "      <td>0.025488</td>\n",
       "      <td>-0.061670</td>\n",
       "      <td>-0.090708</td>\n",
       "    </tr>\n",
       "    <tr>\n",
       "      <th>PFE</th>\n",
       "      <td>0.0</td>\n",
       "      <td>-0.505370</td>\n",
       "      <td>0.173358</td>\n",
       "      <td>0.362696</td>\n",
       "      <td>0.000000</td>\n",
       "      <td>0.00000</td>\n",
       "      <td>-0.469550</td>\n",
       "      <td>0.615361</td>\n",
       "      <td>-0.182346</td>\n",
       "      <td>-0.110295</td>\n",
       "      <td>...</td>\n",
       "      <td>0.244404</td>\n",
       "      <td>-0.216933</td>\n",
       "      <td>0.579636</td>\n",
       "      <td>0.428839</td>\n",
       "      <td>-0.498121</td>\n",
       "      <td>0.000000</td>\n",
       "      <td>0.000000</td>\n",
       "      <td>0.094516</td>\n",
       "      <td>-0.136763</td>\n",
       "      <td>-0.050943</td>\n",
       "    </tr>\n",
       "    <tr>\n",
       "      <th>SBUX</th>\n",
       "      <td>0.0</td>\n",
       "      <td>-0.365782</td>\n",
       "      <td>0.228662</td>\n",
       "      <td>0.477563</td>\n",
       "      <td>0.000000</td>\n",
       "      <td>0.00000</td>\n",
       "      <td>-0.342941</td>\n",
       "      <td>-0.019664</td>\n",
       "      <td>0.523710</td>\n",
       "      <td>-0.299161</td>\n",
       "      <td>...</td>\n",
       "      <td>-0.104634</td>\n",
       "      <td>0.164829</td>\n",
       "      <td>-0.214228</td>\n",
       "      <td>0.044639</td>\n",
       "      <td>-0.157049</td>\n",
       "      <td>0.000000</td>\n",
       "      <td>0.000000</td>\n",
       "      <td>0.306759</td>\n",
       "      <td>-0.174095</td>\n",
       "      <td>0.382732</td>\n",
       "    </tr>\n",
       "    <tr>\n",
       "      <th>TSLA</th>\n",
       "      <td>0.0</td>\n",
       "      <td>-0.296084</td>\n",
       "      <td>-0.014043</td>\n",
       "      <td>-0.109948</td>\n",
       "      <td>0.000000</td>\n",
       "      <td>0.00000</td>\n",
       "      <td>-0.266979</td>\n",
       "      <td>0.000456</td>\n",
       "      <td>0.721773</td>\n",
       "      <td>-0.155580</td>\n",
       "      <td>...</td>\n",
       "      <td>-0.062121</td>\n",
       "      <td>0.155684</td>\n",
       "      <td>-0.363438</td>\n",
       "      <td>0.442278</td>\n",
       "      <td>-0.322510</td>\n",
       "      <td>0.000000</td>\n",
       "      <td>0.000000</td>\n",
       "      <td>0.260328</td>\n",
       "      <td>-0.130234</td>\n",
       "      <td>0.246565</td>\n",
       "    </tr>\n",
       "  </tbody>\n",
       "</table>\n",
       "<p>6 rows × 366 columns</p>\n",
       "</div>"
      ],
      "text/plain": [
       "               2020-06-16  2020-06-17  2020-06-18  2020-06-19  2020-06-20  \\\n",
       "Currency_Name                                                               \n",
       "BTC                   0.0   -0.064354   -0.119321    0.104791   -0.127427   \n",
       "DOGE                  0.0   -0.056720   -0.073993    0.011041   -0.086599   \n",
       "ETC                   0.0   -0.033175   -0.128235    0.034641   -0.099842   \n",
       "PFE                   0.0   -0.505370    0.173358    0.362696    0.000000   \n",
       "SBUX                  0.0   -0.365782    0.228662    0.477563    0.000000   \n",
       "TSLA                  0.0   -0.296084   -0.014043   -0.109948    0.000000   \n",
       "\n",
       "               2020-06-21  2020-06-22  2020-06-23  2020-06-24  2020-06-25  \\\n",
       "Currency_Name                                                               \n",
       "BTC              -0.10544    0.377160   -0.194161    0.114973   -0.018230   \n",
       "DOGE              0.07356    0.021264   -0.011099    0.039486   -0.103023   \n",
       "ETC              -0.10434    0.621237   -0.270393    0.330665   -0.204719   \n",
       "PFE               0.00000   -0.469550    0.615361   -0.182346   -0.110295   \n",
       "SBUX              0.00000   -0.342941   -0.019664    0.523710   -0.299161   \n",
       "TSLA              0.00000   -0.266979    0.000456    0.721773   -0.155580   \n",
       "\n",
       "               ...  2021-06-07  2021-06-08  2021-06-09  2021-06-10  \\\n",
       "Currency_Name  ...                                                   \n",
       "BTC            ...    0.164992    0.481479    0.081577   -0.192632   \n",
       "DOGE           ...    0.657386    0.287293   -0.195013   -0.329807   \n",
       "ETC            ...    0.208934    0.369594   -0.139202   -0.202967   \n",
       "PFE            ...    0.244404   -0.216933    0.579636    0.428839   \n",
       "SBUX           ...   -0.104634    0.164829   -0.214228    0.044639   \n",
       "TSLA           ...   -0.062121    0.155684   -0.363438    0.442278   \n",
       "\n",
       "               2021-06-11  2021-06-12  2021-06-13  2021-06-14  2021-06-15  \\\n",
       "Currency_Name                                                               \n",
       "BTC             -0.111903   -0.020039    0.072378    0.192874   -0.170708   \n",
       "DOGE            -0.132243   -0.124731   -0.075224    0.227187   -0.174612   \n",
       "ETC             -0.136368    0.035913    0.053202    0.025488   -0.061670   \n",
       "PFE             -0.498121    0.000000    0.000000    0.094516   -0.136763   \n",
       "SBUX            -0.157049    0.000000    0.000000    0.306759   -0.174095   \n",
       "TSLA            -0.322510    0.000000    0.000000    0.260328   -0.130234   \n",
       "\n",
       "               2021-06-16  \n",
       "Currency_Name              \n",
       "BTC             -0.019834  \n",
       "DOGE            -0.028751  \n",
       "ETC             -0.090708  \n",
       "PFE             -0.050943  \n",
       "SBUX             0.382732  \n",
       "TSLA             0.246565  \n",
       "\n",
       "[6 rows x 366 columns]"
      ]
     },
     "execution_count": 138,
     "metadata": {},
     "output_type": "execute_result"
    }
   ],
   "source": [
    "dft"
   ]
  },
  {
   "cell_type": "code",
   "execution_count": 140,
   "metadata": {},
   "outputs": [],
   "source": [
    "from pyspark.sql import SparkSession\n",
    "spark = SparkSession.builder.getOrCreate()\n",
    "\n",
    "from pyspark.ml.clustering import KMeans\n",
    "from pyspark.ml.evaluation import ClusteringEvaluator\n",
    "from pyspark.ml.feature import VectorAssembler\n",
    "\n",
    "df_volume = spark.read.csv('/project/ds5559/group5_NL_EL_CJ/transformed_volume_percentage.csv', header=True, inferSchema=True)"
   ]
  },
  {
   "cell_type": "code",
   "execution_count": 141,
   "metadata": {},
   "outputs": [
    {
     "name": "stdout",
     "output_type": "stream",
     "text": [
      "+--------------------+\n",
      "|            features|\n",
      "+--------------------+\n",
      "|[0.0,-0.064353938...|\n",
      "|[0.0,-0.056719612...|\n",
      "|[0.0,-0.033174515...|\n",
      "|[0.0,-0.505369766...|\n",
      "|[0.0,-0.365781765...|\n",
      "+--------------------+\n",
      "only showing top 5 rows\n",
      "\n"
     ]
    }
   ],
   "source": [
    "stockfeatures = df_volume.columns[1:]\n",
    "assembler = VectorAssembler(inputCols=stockfeatures, outputCol=\"features\")\n",
    "dataset=assembler.transform(df_volume)\n",
    "dataset.select(\"features\").show(5)"
   ]
  },
  {
   "cell_type": "code",
   "execution_count": 142,
   "metadata": {},
   "outputs": [],
   "source": [
    "kmeans = KMeans().setK(2).setSeed(314).setMaxIter(10)\n",
    "model = kmeans.fit(dataset)"
   ]
  },
  {
   "cell_type": "code",
   "execution_count": 143,
   "metadata": {},
   "outputs": [],
   "source": [
    "predictions = model.transform(dataset)"
   ]
  },
  {
   "cell_type": "code",
   "execution_count": 144,
   "metadata": {},
   "outputs": [
    {
     "name": "stdout",
     "output_type": "stream",
     "text": [
      "Silhouette with squared euclidean distance = 0.7128068377377695\n"
     ]
    }
   ],
   "source": [
    "evaluator = ClusteringEvaluator()\n",
    "\n",
    "silhouette = evaluator.evaluate(predictions)\n",
    "\n",
    "print(\"Silhouette with squared euclidean distance = \" + str(silhouette))"
   ]
  },
  {
   "cell_type": "code",
   "execution_count": 145,
   "metadata": {},
   "outputs": [],
   "source": [
    "def kmeans_range(lower_bound, upper_bound, df):\n",
    "\n",
    "    silhouette_scores = []\n",
    "    k_means = []\n",
    "\n",
    "    for k in range(lower_bound, upper_bound+1):\n",
    "        kmeans = KMeans().setK(k).setSeed(314).setMaxIter(10)\n",
    "        model = kmeans.fit(df)\n",
    "        predictions = model.transform(df)\n",
    "        evaluator = ClusteringEvaluator()\n",
    "        silhouette = evaluator.evaluate(predictions)\n",
    "        silhouette_scores.append(silhouette)\n",
    "        k_means.append(k)\n",
    "    \n",
    "    df_kmeans = pd.DataFrame({'k': k_means,\n",
    "                             'silhouette_scores': silhouette_scores})\n",
    "    \n",
    "    return df_kmeans"
   ]
  },
  {
   "cell_type": "code",
   "execution_count": 146,
   "metadata": {},
   "outputs": [
    {
     "data": {
      "text/html": [
       "<div>\n",
       "<style scoped>\n",
       "    .dataframe tbody tr th:only-of-type {\n",
       "        vertical-align: middle;\n",
       "    }\n",
       "\n",
       "    .dataframe tbody tr th {\n",
       "        vertical-align: top;\n",
       "    }\n",
       "\n",
       "    .dataframe thead th {\n",
       "        text-align: right;\n",
       "    }\n",
       "</style>\n",
       "<table border=\"1\" class=\"dataframe\">\n",
       "  <thead>\n",
       "    <tr style=\"text-align: right;\">\n",
       "      <th></th>\n",
       "      <th>k</th>\n",
       "      <th>silhouette_scores</th>\n",
       "    </tr>\n",
       "  </thead>\n",
       "  <tbody>\n",
       "    <tr>\n",
       "      <th>0</th>\n",
       "      <td>2</td>\n",
       "      <td>0.712807</td>\n",
       "    </tr>\n",
       "    <tr>\n",
       "      <th>1</th>\n",
       "      <td>3</td>\n",
       "      <td>0.334380</td>\n",
       "    </tr>\n",
       "    <tr>\n",
       "      <th>2</th>\n",
       "      <td>4</td>\n",
       "      <td>-0.002836</td>\n",
       "    </tr>\n",
       "    <tr>\n",
       "      <th>3</th>\n",
       "      <td>5</td>\n",
       "      <td>-0.062035</td>\n",
       "    </tr>\n",
       "    <tr>\n",
       "      <th>4</th>\n",
       "      <td>6</td>\n",
       "      <td>0.000000</td>\n",
       "    </tr>\n",
       "    <tr>\n",
       "      <th>5</th>\n",
       "      <td>7</td>\n",
       "      <td>0.000000</td>\n",
       "    </tr>\n",
       "    <tr>\n",
       "      <th>6</th>\n",
       "      <td>8</td>\n",
       "      <td>0.000000</td>\n",
       "    </tr>\n",
       "    <tr>\n",
       "      <th>7</th>\n",
       "      <td>9</td>\n",
       "      <td>0.000000</td>\n",
       "    </tr>\n",
       "    <tr>\n",
       "      <th>8</th>\n",
       "      <td>10</td>\n",
       "      <td>0.000000</td>\n",
       "    </tr>\n",
       "  </tbody>\n",
       "</table>\n",
       "</div>"
      ],
      "text/plain": [
       "    k  silhouette_scores\n",
       "0   2           0.712807\n",
       "1   3           0.334380\n",
       "2   4          -0.002836\n",
       "3   5          -0.062035\n",
       "4   6           0.000000\n",
       "5   7           0.000000\n",
       "6   8           0.000000\n",
       "7   9           0.000000\n",
       "8  10           0.000000"
      ]
     },
     "execution_count": 146,
     "metadata": {},
     "output_type": "execute_result"
    }
   ],
   "source": [
    "df_kmeans = kmeans_range(2, 10, dataset)\n",
    "df_kmeans"
   ]
  },
  {
   "cell_type": "code",
   "execution_count": 147,
   "metadata": {},
   "outputs": [],
   "source": [
    "%matplotlib inline\n",
    "import matplotlib.pyplot as plt"
   ]
  },
  {
   "cell_type": "code",
   "execution_count": 148,
   "metadata": {},
   "outputs": [
    {
     "data": {
      "text/plain": [
       "Text(0.5, 1.0, 'Silhouette Scores by Cluster Numbers k')"
      ]
     },
     "execution_count": 148,
     "metadata": {},
     "output_type": "execute_result"
    },
    {
     "data": {
      "image/png": "[encoded data removed]",
      "text/plain": [
       "<Figure size 576x432 with 1 Axes>"
      ]
     },
     "metadata": {
      "needs_background": "light"
     },
     "output_type": "display_data"
    }
   ],
   "source": [
    "fig, ax = plt.subplots(1,1, figsize =(8,6))\n",
    "ax.plot(df_kmeans.k,df_kmeans.silhouette_scores)\n",
    "ax.set_xlabel('k')\n",
    "ax.set_ylabel('Silhouette Scores')\n",
    "ax.set_title('Silhouette Scores by Cluster Numbers k')"
   ]
  },
  {
   "cell_type": "code",
   "execution_count": 149,
   "metadata": {},
   "outputs": [],
   "source": [
    "KMeans_=KMeans(featuresCol='features', k=2) \n",
    "KMeans_Model=KMeans_.fit(dataset)\n",
    "KMeans_Assignments=KMeans_Model.transform(dataset)"
   ]
  },
  {
   "cell_type": "code",
   "execution_count": 150,
   "metadata": {},
   "outputs": [],
   "source": [
    "from pyspark.ml.feature import PCA as PCAml\n",
    "pca = PCAml(k=2, inputCol=\"features\", outputCol=\"pca\")\n",
    "pca_model = pca.fit(dataset)\n",
    "pca_transformed = pca_model.transform(dataset)"
   ]
  },
  {
   "cell_type": "code",
   "execution_count": 151,
   "metadata": {},
   "outputs": [],
   "source": [
    "x_pca = np.array(pca_transformed.rdd.map(lambda row: row.pca).collect())"
   ]
  },
  {
   "cell_type": "code",
   "execution_count": 152,
   "metadata": {},
   "outputs": [],
   "source": [
    "cluster_assignment = np.array(KMeans_Assignments.rdd.map(lambda row: row.prediction).collect()).reshape(-1,1)"
   ]
  },
  {
   "cell_type": "code",
   "execution_count": 153,
   "metadata": {},
   "outputs": [
    {
     "data": {
      "image/png": "[encoded data removed]",
      "text/plain": [
       "<Figure size 558.175x432 with 1 Axes>"
      ]
     },
     "metadata": {
      "needs_background": "light"
     },
     "output_type": "display_data"
    }
   ],
   "source": [
    "import seaborn as sns\n",
    "import matplotlib.pyplot as plt\n",
    "\n",
    "pca_data = np.hstack((x_pca,cluster_assignment))\n",
    "\n",
    "pca_df = pd.DataFrame(data=pca_data, columns=(\"1st_principal\", \"2nd_principal\", \"cluster_assignment\"))\n",
    "sns.FacetGrid(pca_df,hue=\"cluster_assignment\", height=6).map(plt.scatter, '1st_principal', '2nd_principal' ).add_legend()\n",
    "\n",
    "plt.show()"
   ]
  },
  {
   "cell_type": "markdown",
   "metadata": {},
   "source": [
    "### Random Forests"
   ]
  },
  {
   "cell_type": "code",
   "execution_count": 28,
   "metadata": {},
   "outputs": [],
   "source": [
    "from pyspark.ml import Pipeline\n",
    "from pyspark.ml.classification import RandomForestClassifier\n",
    "from pyspark.ml.feature import IndexToString, StringIndexer, VectorIndexer\n",
    "from pyspark.ml.evaluation import MulticlassClassificationEvaluator"
   ]
  },
  {
   "cell_type": "markdown",
   "metadata": {},
   "source": [
    "#### Setting up Random Forests"
   ]
  },
  {
   "cell_type": "code",
   "execution_count": 29,
   "metadata": {},
   "outputs": [],
   "source": [
    "combined_df = combined_df.filter(combined_df.Open.isNotNull())"
   ]
  },
  {
   "cell_type": "code",
   "execution_count": 30,
   "metadata": {},
   "outputs": [],
   "source": [
    "numericCols = [\"Open\", \"High\", \"Low\", \"Close\", \"Adj Close\", \"Volume\", \"perc_diff_open\", \"perc_diff_close\", \"perc_diff_high\", \"perc_diff_low\", \"perc_diff_adjclose\", \"perc_diff_volume\"]\n",
    "assembler = VectorAssembler(inputCols=numericCols, outputCol=\"features\")\n",
    "transformed = assembler.transform(combined_df)"
   ]
  },
  {
   "cell_type": "code",
   "execution_count": 31,
   "metadata": {},
   "outputs": [
    {
     "name": "stdout",
     "output_type": "stream",
     "text": [
      "+----------+-------+-------+-------+-------+---------+-----------+-------------+-------------+---------------+--------------------+----------------+--------------------+---------------+--------------------+--------------+--------------------+-------------------+--------------------+-----------------+--------------------+--------------------+----------+\n",
      "|      Date|   Open|   High|    Low|  Close|Adj Close|     Volume|Currency_Type|Currency_Name|prev_value_open|      perc_diff_open|prev_value_close|     perc_diff_close|prev_value_high|      perc_diff_high|prev_value_low|       perc_diff_low|prev_value_adjclose|  perc_diff_adjclose|prev_value_volume|    perc_diff_volume|            features|labelIndex|\n",
      "+----------+-------+-------+-------+-------+---------+-----------+-------------+-------------+---------------+--------------------+----------------+--------------------+---------------+--------------------+--------------+--------------------+-------------------+--------------------+-----------------+--------------------+--------------------+----------+\n",
      "|2020-06-16| 202.37|202.576|192.478|196.426|  196.426|7.0255504E7|            0|         TSLA|           null|                 0.0|            null|                 0.0|           null|                 0.0|          null|                 0.0|               null|                 0.0|             null|                 0.0|(12,[0,1,2,3,4,5]...|       1.0|\n",
      "|2020-06-17|197.542|  201.0|196.514|198.358|  198.358|   4.9454E7|            0|         TSLA|         202.37|-0.02385723075252667|         196.426|0.009835800181061501|        202.576|-0.00777981595539...|       192.478|0.020968686336820346|            196.426|0.009835800181061501|      7.0255504E7| -0.2960836207224419|[197.542007446289...|       1.0|\n",
      "|2020-06-18|  200.6| 203.84|198.894|200.792|  200.792|  4.87595E7|            0|         TSLA|        197.542|0.015480244919845825|         198.358|0.012270771616643293|          201.0|0.014129335014381218|       196.514|0.012111043143810164|            198.358|0.012270771616643293|         4.9454E7|-0.01404335341933...|[200.600006103515...|       1.0|\n",
      "|2020-06-19|202.556|203.194|198.268| 200.18|   200.18|  4.33985E7|            0|         TSLA|          200.6|0.009750715816700417|         200.792|-0.00304800364462...|         203.84|-0.00316913316991...|       198.894|-0.00314736407395...|            200.792|-0.00304800364462...|        4.87595E7|-0.10994780504311981|[202.555999755859...|       1.0|\n",
      "|2020-06-22| 199.99|201.776|198.004|198.864|  198.864|   3.1812E7|            0|         TSLA|        202.556|-0.01266807335150...|          200.18|-0.00657405490481...|        203.194|-0.00697854890338...|       198.268|-0.00133156919526...|             200.18|-0.00657405490481...|        4.33985E7| -0.2669792734771939|[199.990005493164...|       1.0|\n",
      "+----------+-------+-------+-------+-------+---------+-----------+-------------+-------------+---------------+--------------------+----------------+--------------------+---------------+--------------------+--------------+--------------------+-------------------+--------------------+-----------------+--------------------+--------------------+----------+\n",
      "only showing top 5 rows\n",
      "\n"
     ]
    }
   ],
   "source": [
    "label_stringIdx = StringIndexer(inputCol = 'Currency_Type', outputCol = 'labelIndex')\n",
    "transformed = label_stringIdx.fit(transformed).transform(transformed)\n",
    "transformed.show(5, truncate=True)"
   ]
  },
  {
   "cell_type": "markdown",
   "metadata": {},
   "source": [
    "#### Pipeline"
   ]
  },
  {
   "cell_type": "code",
   "execution_count": 36,
   "metadata": {},
   "outputs": [],
   "source": [
    "cols = [\"Open\", \"High\", \"Low\", \"Close\", \"Adj Close\", \"Volume\", \"perc_diff_open\", \"perc_diff_close\", \"perc_diff_high\", \"perc_diff_low\", \"perc_diff_adjclose\", \"perc_diff_volume\"]\n",
    "\n",
    "assembler = VectorAssembler()\\\n",
    "  .setInputCols(cols)\\\n",
    "  .setOutputCol(\"features\")\n",
    "featureDf = assembler.transform(combined_df)"
   ]
  },
  {
   "cell_type": "code",
   "execution_count": 37,
   "metadata": {},
   "outputs": [],
   "source": [
    "indexer = StringIndexer()\\\n",
    "  .setInputCol(\"Currency_Type\")\\\n",
    "  .setOutputCol(\"label\")\n",
    "labelDf = indexer.fit(featureDf).transform(featureDf)"
   ]
  },
  {
   "cell_type": "markdown",
   "metadata": {},
   "source": [
    "### Cross-Validated Random Forest with all Features"
   ]
  },
  {
   "cell_type": "code",
   "execution_count": 41,
   "metadata": {},
   "outputs": [],
   "source": [
    "pipelineTrainingData, pipelineTestingData = combined_df.randomSplit([0.8, 0.2], seed=314)\n",
    "\n",
    "# // VectorAssembler and StringIndexer are transformers\n",
    "# // LogisticRegression is the estimator\n",
    "stages = np.array([assembler, indexer, randomForestClassifier])\n",
    "\n",
    "# // build pipeline\n",
    "pipeline = Pipeline().setStages(stages)\n",
    "pipelineModel = pipeline.fit(pipelineTrainingData)\n",
    "\n",
    "# // test model with test data\n",
    "pipelinePredictionDf = pipelineModel.transform(pipelineTestingData)"
   ]
  },
  {
   "cell_type": "code",
   "execution_count": 42,
   "metadata": {},
   "outputs": [],
   "source": [
    "from pyspark.ml.tuning import ParamGridBuilder, CrossValidator"
   ]
  },
  {
   "cell_type": "code",
   "execution_count": 43,
   "metadata": {},
   "outputs": [],
   "source": [
    "evaluator = BinaryClassificationEvaluator()\\\n",
    "  .setLabelCol(\"label\")\\\n",
    "  .setMetricName(\"areaUnderROC\")"
   ]
  },
  {
   "cell_type": "code",
   "execution_count": 44,
   "metadata": {},
   "outputs": [],
   "source": [
    "paramGrid = ParamGridBuilder()\\\n",
    "  .addGrid(randomForestClassifier.maxBins, [5,10,15])\\\n",
    "  .addGrid(randomForestClassifier.maxDepth, [3,4,5])\\\n",
    "  .addGrid(randomForestClassifier.impurity, [\"entropy\", \"gini\"])\\\n",
    "  .build()\n",
    "\n",
    "# Define cross validation stage to search through the parameters\n",
    "# K-Fold cross validation with BinaryClassificationEvaluator\n",
    "cv = CrossValidator()\\\n",
    "  .setEstimator(pipeline)\\\n",
    "  .setEvaluator(evaluator)\\\n",
    "  .setEstimatorParamMaps(paramGrid)\\\n",
    "  .setNumFolds(3)"
   ]
  },
  {
   "cell_type": "code",
   "execution_count": 45,
   "metadata": {},
   "outputs": [
    {
     "name": "stdout",
     "output_type": "stream",
     "text": [
      "+----------+-------+-------+-------+-------+---------+------------+-------------+-------------+---------------+--------------------+----------------+--------------------+---------------+--------------------+--------------+--------------------+-------------------+--------------------+-----------------+--------------------+--------------------+-----+--------------------+--------------------+----------+\n",
      "|      Date|   Open|   High|    Low|  Close|Adj Close|      Volume|Currency_Type|Currency_Name|prev_value_open|      perc_diff_open|prev_value_close|     perc_diff_close|prev_value_high|      perc_diff_high|prev_value_low|       perc_diff_low|prev_value_adjclose|  perc_diff_adjclose|prev_value_volume|    perc_diff_volume|            features|label|       rawPrediction|         probability|prediction|\n",
      "+----------+-------+-------+-------+-------+---------+------------+-------------+-------------+---------------+--------------------+----------------+--------------------+---------------+--------------------+--------------+--------------------+-------------------+--------------------+-----------------+--------------------+--------------------+-----+--------------------+--------------------+----------+\n",
      "|2020-06-18|  200.6| 203.84|198.894|200.792|  200.792|   4.87595E7|            0|         TSLA|        197.542|0.015480244919845825|         198.358|0.012270771616643293|          201.0|0.014129335014381218|       196.514|0.012111043143810164|            198.358|0.012270771616643293|         4.9454E7|-0.01404335341933...|[200.600006103515...|  1.0|[1.99702598833100...|[0.09985129941655...|       1.0|\n",
      "|2020-06-19|202.556|203.194|198.268| 200.18|   200.18|   4.33985E7|            0|         TSLA|          200.6|0.009750715816700417|         200.792|-0.00304800364462...|         203.84|-0.00316913316991...|       198.894|-0.00314736407395...|            200.792|-0.00304800364462...|        4.87595E7|-0.10994780504311981|[202.555999755859...|  1.0|[1.99702598833100...|[0.09985129941655...|       1.0|\n",
      "|2020-06-23|199.776|  202.4|198.802|200.356|  200.356|   3.18265E7|            0|         TSLA|         199.99|-0.00107007605742...|         198.864|0.007502637010405554|        201.776|0.003092503156479722|       198.004| 0.00403024261755388|            198.864|0.007502637010405554|         3.1812E7|4.558028416949578...|[199.776000976562...|  1.0|[1.99702598833100...|[0.09985129941655...|       1.0|\n",
      "|2020-06-26|198.956|  199.0|190.974|191.948|  191.948|   4.42745E7|            0|         TSLA|        190.854| 0.04245124325541294|         197.196|-0.02661312157129...|        197.196| 0.00914826295822079|        187.43|0.018908427072217394|            197.196|-0.02661312157129...|        4.62725E7| -0.0431789940029175|[198.955993652343...|  1.0|[1.99702598833100...|[0.09985129941655...|       1.0|\n",
      "|2020-07-06|255.338|275.558|253.208|274.316|  274.316|1.02849504E8|            0|         TSLA|        244.296| 0.04519923351282119|         241.732| 0.13479396859567275|          245.6| 0.12197885614006573|        237.12| 0.06784749396006254|            241.732| 0.13479396859567275|      8.6250496E7| 0.19245115993303968|[255.337997436523...|  1.0|[8.44296731882607...|[0.42214836594130...|       1.0|\n",
      "|2020-07-15|  308.6|  310.0|  291.4|309.202|  309.202|    8.1839E7|            0|         TSLA|          311.2|-0.00835477506917...|          303.36|0.019257683215130023|          318.0|-0.02515723270440...|         286.2|0.018169047755635888|             303.36|0.019257683215130023|     1.17090496E8| -0.3010619751751671|[308.600006103515...|  1.0|[1.99702598833100...|[0.09985129941655...|       1.0|\n",
      "|2020-07-20|303.802|  330.0|  297.6|  328.6|    328.6|    8.5607E7|            0|         TSLA|         302.69|0.003673723951071054|         300.168|   0.094720312975776|        307.502| 0.07316370236237257|         298.0|-0.00134226139759...|            300.168|   0.094720312975776|          4.665E7|  0.8350911039657021|[303.802001953125...|  1.0|[1.99702598833100...|[0.09985129941655...|       1.0|\n",
      "|2020-07-21|327.986|  335.0|  311.6|313.672|  313.672|    8.0536E7|            0|         TSLA|        303.802| 0.07960444738032728|           328.6|-0.04542911976848991|          330.0|0.015151515151515152|         297.6|  0.0470430097878772|              328.6|-0.04542911976848991|         8.5607E7|-0.05923581015571157|[327.985992431640...|  1.0|[1.99702598833100...|[0.09985129941655...|       1.0|\n",
      "|2020-07-27|  287.0|309.588|  282.6| 307.92|   307.92| 8.0243504E7|            0|         TSLA|        283.202|0.013410937091020729|           283.4| 0.08652088941189696|          293.0| 0.05661437779970137|       273.308| 0.03399824269461532|              283.4| 0.08652088941189696|         9.6983E7| -0.1726023736118701|[287.0,309.588012...|  1.0|[1.99702598833100...|[0.09985129941655...|       1.0|\n",
      "|2020-07-30|  297.6|302.648|  294.2|297.498|  297.498|    3.8105E7|            0|         TSLA|          300.2|-0.00866091271749...|         299.822|-0.00775128308453...|        306.962|-0.01405384146054...|         297.4|-0.01075985795267...|            299.822|-0.00775128308453...|        4.71345E7| -0.1915688084099757|[297.600006103515...|  1.0|[1.99702598833100...|[0.09985129941655...|       1.0|\n",
      "+----------+-------+-------+-------+-------+---------+------------+-------------+-------------+---------------+--------------------+----------------+--------------------+---------------+--------------------+--------------+--------------------+-------------------+--------------------+-----------------+--------------------+--------------------+-----+--------------------+--------------------+----------+\n",
      "only showing top 10 rows\n",
      "\n"
     ]
    }
   ],
   "source": [
    "cvModel = cv.setParallelism(4).fit(pipelineTrainingData)\n",
    "\n",
    "# Test cross validated model with test data\n",
    "cvPredictionDf = cvModel.transform(pipelineTestingData)\n",
    "cvPredictionDf.show(10)"
   ]
  },
  {
   "cell_type": "code",
   "execution_count": 46,
   "metadata": {},
   "outputs": [
    {
     "name": "stdout",
     "output_type": "stream",
     "text": [
      "1.0\n"
     ]
    }
   ],
   "source": [
    "auroc = evaluator.evaluate(cvPredictionDf)\n",
    "print(auroc)"
   ]
  },
  {
   "cell_type": "code",
   "execution_count": 47,
   "metadata": {},
   "outputs": [],
   "source": [
    "metrics = MulticlassClassificationEvaluator()\\\n",
    "  .setLabelCol(\"label\")"
   ]
  },
  {
   "cell_type": "code",
   "execution_count": 48,
   "metadata": {},
   "outputs": [
    {
     "data": {
      "text/plain": [
       "1.0"
      ]
     },
     "execution_count": 48,
     "metadata": {},
     "output_type": "execute_result"
    }
   ],
   "source": [
    "metrics.evaluate(cvPredictionDf, {metrics.metricName: \"accuracy\"})"
   ]
  },
  {
   "cell_type": "code",
   "execution_count": 49,
   "metadata": {},
   "outputs": [
    {
     "data": {
      "text/plain": [
       "1.0"
      ]
     },
     "execution_count": 49,
     "metadata": {},
     "output_type": "execute_result"
    }
   ],
   "source": [
    "metrics.evaluate(cvPredictionDf, {metrics.metricName: \"f1\"})"
   ]
  },
  {
   "cell_type": "code",
   "execution_count": 50,
   "metadata": {},
   "outputs": [
    {
     "data": {
      "text/plain": [
       "1.0"
      ]
     },
     "execution_count": 50,
     "metadata": {},
     "output_type": "execute_result"
    }
   ],
   "source": [
    "metrics.evaluate(cvPredictionDf, {metrics.metricName: \"weightedPrecision\"})"
   ]
  },
  {
   "cell_type": "code",
   "execution_count": 52,
   "metadata": {},
   "outputs": [
    {
     "data": {
      "text/plain": [
       "1.0"
      ]
     },
     "execution_count": 52,
     "metadata": {},
     "output_type": "execute_result"
    }
   ],
   "source": [
    "metrics.evaluate(cvPredictionDf, {metrics.metricName: \"weightedRecall\"})"
   ]
  },
  {
   "cell_type": "code",
   "execution_count": 56,
   "metadata": {},
   "outputs": [
    {
     "data": {
      "text/plain": [
       "RandomForestClassificationModel: uid=RandomForestClassifier_1d9e1422472b, numTrees=20, numClasses=2, numFeatures=12"
      ]
     },
     "execution_count": 56,
     "metadata": {},
     "output_type": "execute_result"
    }
   ],
   "source": [
    "#extracting parameters for best CV model\n",
    "cvModel.bestModel.stages[-1]"
   ]
  },
  {
   "cell_type": "markdown",
   "metadata": {},
   "source": [
    "### Cross-Validation on Random Forest for percentage difference"
   ]
  },
  {
   "cell_type": "code",
   "execution_count": 70,
   "metadata": {},
   "outputs": [
    {
     "name": "stdout",
     "output_type": "stream",
     "text": [
      "+----------+-------+-------+-------+-------+---------+------------+-------------+-------------+---------------+--------------------+----------------+--------------------+---------------+--------------------+--------------+--------------------+-------------------+--------------------+-----------------+--------------------+--------------------+-----+--------------------+--------------------+----------+\n",
      "|      Date|   Open|   High|    Low|  Close|Adj Close|      Volume|Currency_Type|Currency_Name|prev_value_open|      perc_diff_open|prev_value_close|     perc_diff_close|prev_value_high|      perc_diff_high|prev_value_low|       perc_diff_low|prev_value_adjclose|  perc_diff_adjclose|prev_value_volume|    perc_diff_volume|            features|label|       rawPrediction|         probability|prediction|\n",
      "+----------+-------+-------+-------+-------+---------+------------+-------------+-------------+---------------+--------------------+----------------+--------------------+---------------+--------------------+--------------+--------------------+-------------------+--------------------+-----------------+--------------------+--------------------+-----+--------------------+--------------------+----------+\n",
      "|2020-06-18|  200.6| 203.84|198.894|200.792|  200.792|   4.87595E7|            0|         TSLA|        197.542|0.015480244919845825|         198.358|0.012270771616643293|          201.0|0.014129335014381218|       196.514|0.012111043143810164|            198.358|0.012270771616643293|         4.9454E7|-0.01404335341933...|[0.01548024491984...|  1.0|[9.92588314923831...|[0.49629415746191...|       1.0|\n",
      "|2020-06-19|202.556|203.194|198.268| 200.18|   200.18|   4.33985E7|            0|         TSLA|          200.6|0.009750715816700417|         200.792|-0.00304800364462...|         203.84|-0.00316913316991...|       198.894|-0.00314736407395...|            200.792|-0.00304800364462...|        4.87595E7|-0.10994780504311981|[0.00975071581670...|  1.0|[9.92588314923831...|[0.49629415746191...|       1.0|\n",
      "|2020-06-23|199.776|  202.4|198.802|200.356|  200.356|   3.18265E7|            0|         TSLA|         199.99|-0.00107007605742...|         198.864|0.007502637010405554|        201.776|0.003092503156479722|       198.004| 0.00403024261755388|            198.864|0.007502637010405554|         3.1812E7|4.558028416949578...|[-0.0010700760574...|  1.0|[9.92588314923831...|[0.49629415746191...|       1.0|\n",
      "|2020-06-26|198.956|  199.0|190.974|191.948|  191.948|   4.42745E7|            0|         TSLA|        190.854| 0.04245124325541294|         197.196|-0.02661312157129...|        197.196| 0.00914826295822079|        187.43|0.018908427072217394|            197.196|-0.02661312157129...|        4.62725E7| -0.0431789940029175|[0.04245124325541...|  1.0|[12.6167883194569...|[0.63083941597284...|       0.0|\n",
      "|2020-07-06|255.338|275.558|253.208|274.316|  274.316|1.02849504E8|            0|         TSLA|        244.296| 0.04519923351282119|         241.732| 0.13479396859567275|          245.6| 0.12197885614006573|        237.12| 0.06784749396006254|            241.732| 0.13479396859567275|      8.6250496E7| 0.19245115993303968|[0.04519923351282...|  1.0|[15.0190998426779...|[0.75095499213389...|       0.0|\n",
      "|2020-07-15|  308.6|  310.0|  291.4|309.202|  309.202|    8.1839E7|            0|         TSLA|          311.2|-0.00835477506917...|          303.36|0.019257683215130023|          318.0|-0.02515723270440...|         286.2|0.018169047755635888|             303.36|0.019257683215130023|     1.17090496E8| -0.3010619751751671|[-0.0083547750691...|  1.0|[9.65634770580037...|[0.48281738529001...|       1.0|\n",
      "|2020-07-20|303.802|  330.0|  297.6|  328.6|    328.6|    8.5607E7|            0|         TSLA|         302.69|0.003673723951071054|         300.168|   0.094720312975776|        307.502| 0.07316370236237257|         298.0|-0.00134226139759...|            300.168|   0.094720312975776|          4.665E7|  0.8350911039657021|[0.00367372395107...|  1.0|[14.4254079784032...|[0.72127039892016...|       0.0|\n",
      "|2020-07-21|327.986|  335.0|  311.6|313.672|  313.672|    8.0536E7|            0|         TSLA|        303.802| 0.07960444738032728|           328.6|-0.04542911976848991|          330.0|0.015151515151515152|         297.6|  0.0470430097878772|              328.6|-0.04542911976848991|         8.5607E7|-0.05923581015571157|[0.07960444738032...|  1.0|[15.7295742905167...|[0.78647871452583...|       0.0|\n",
      "|2020-07-27|  287.0|309.588|  282.6| 307.92|   307.92| 8.0243504E7|            0|         TSLA|        283.202|0.013410937091020729|           283.4| 0.08652088941189696|          293.0| 0.05661437779970137|       273.308| 0.03399824269461532|              283.4| 0.08652088941189696|         9.6983E7| -0.1726023736118701|[0.01341093709102...|  1.0|[14.6623765031700...|[0.73311882515850...|       0.0|\n",
      "|2020-07-30|  297.6|302.648|  294.2|297.498|  297.498|    3.8105E7|            0|         TSLA|          300.2|-0.00866091271749...|         299.822|-0.00775128308453...|        306.962|-0.01405384146054...|         297.4|-0.01075985795267...|            299.822|-0.00775128308453...|        4.71345E7| -0.1915688084099757|[-0.0086609127174...|  1.0|[9.73233095657701...|[0.48661654782885...|       1.0|\n",
      "+----------+-------+-------+-------+-------+---------+------------+-------------+-------------+---------------+--------------------+----------------+--------------------+---------------+--------------------+--------------+--------------------+-------------------+--------------------+-----------------+--------------------+--------------------+-----+--------------------+--------------------+----------+\n",
      "only showing top 10 rows\n",
      "\n"
     ]
    }
   ],
   "source": [
    "pipelineTrainingData, pipelineTestingData = combined_df.randomSplit([0.8, 0.2], seed=314)\n",
    "\n",
    "# // VectorAssembler and StringIndexer are transformers\n",
    "# // LogisticRegression is the estimator\n",
    "stages = np.array([assembler, indexer, randomForestClassifier])\n",
    "\n",
    "# // build pipeline\n",
    "pipeline = Pipeline().setStages(stages)\n",
    "pipelineModel = pipeline.fit(pipelineTrainingData)\n",
    "\n",
    "# // test model with test data\n",
    "pipelinePredictionDf = pipelineModel.transform(pipelineTestingData)\n",
    "pipelinePredictionDf.show(10)"
   ]
  },
  {
   "cell_type": "code",
   "execution_count": 71,
   "metadata": {},
   "outputs": [],
   "source": [
    "paramGrid = ParamGridBuilder()\\\n",
    "  .addGrid(randomForestClassifier.maxBins, [5,10,15])\\\n",
    "  .addGrid(randomForestClassifier.maxDepth, [3,4,5])\\\n",
    "  .addGrid(randomForestClassifier.impurity, [\"entropy\", \"gini\"])\\\n",
    "  .build()\n",
    "\n",
    "# Define cross validation stage to search through the parameters\n",
    "# K-Fold cross validation with BinaryClassificationEvaluator\n",
    "cv = CrossValidator()\\\n",
    "  .setEstimator(pipeline)\\\n",
    "  .setEvaluator(evaluator)\\\n",
    "  .setEstimatorParamMaps(paramGrid)\\\n",
    "  .setNumFolds(3)"
   ]
  },
  {
   "cell_type": "code",
   "execution_count": 72,
   "metadata": {},
   "outputs": [
    {
     "name": "stdout",
     "output_type": "stream",
     "text": [
      "+----------+-------+-------+-------+-------+---------+------------+-------------+-------------+---------------+--------------------+----------------+--------------------+---------------+--------------------+--------------+--------------------+-------------------+--------------------+-----------------+--------------------+--------------------+-----+--------------------+--------------------+----------+\n",
      "|      Date|   Open|   High|    Low|  Close|Adj Close|      Volume|Currency_Type|Currency_Name|prev_value_open|      perc_diff_open|prev_value_close|     perc_diff_close|prev_value_high|      perc_diff_high|prev_value_low|       perc_diff_low|prev_value_adjclose|  perc_diff_adjclose|prev_value_volume|    perc_diff_volume|            features|label|       rawPrediction|         probability|prediction|\n",
      "+----------+-------+-------+-------+-------+---------+------------+-------------+-------------+---------------+--------------------+----------------+--------------------+---------------+--------------------+--------------+--------------------+-------------------+--------------------+-----------------+--------------------+--------------------+-----+--------------------+--------------------+----------+\n",
      "|2020-06-18|  200.6| 203.84|198.894|200.792|  200.792|   4.87595E7|            0|         TSLA|        197.542|0.015480244919845825|         198.358|0.012270771616643293|          201.0|0.014129335014381218|       196.514|0.012111043143810164|            198.358|0.012270771616643293|         4.9454E7|-0.01404335341933...|[0.01548024491984...|  1.0|[9.77134134604084...|[0.48856706730204...|       1.0|\n",
      "|2020-06-19|202.556|203.194|198.268| 200.18|   200.18|   4.33985E7|            0|         TSLA|          200.6|0.009750715816700417|         200.792|-0.00304800364462...|         203.84|-0.00316913316991...|       198.894|-0.00314736407395...|            200.792|-0.00304800364462...|        4.87595E7|-0.10994780504311981|[0.00975071581670...|  1.0|[9.24188654914610...|[0.46209432745730...|       1.0|\n",
      "|2020-06-23|199.776|  202.4|198.802|200.356|  200.356|   3.18265E7|            0|         TSLA|         199.99|-0.00107007605742...|         198.864|0.007502637010405554|        201.776|0.003092503156479722|       198.004| 0.00403024261755388|            198.864|0.007502637010405554|         3.1812E7|4.558028416949578...|[-0.0010700760574...|  1.0|[9.24188654914610...|[0.46209432745730...|       1.0|\n",
      "|2020-06-26|198.956|  199.0|190.974|191.948|  191.948|   4.42745E7|            0|         TSLA|        190.854| 0.04245124325541294|         197.196|-0.02661312157129...|        197.196| 0.00914826295822079|        187.43|0.018908427072217394|            197.196|-0.02661312157129...|        4.62725E7| -0.0431789940029175|[0.04245124325541...|  1.0|[13.4255028031434...|[0.67127514015717...|       0.0|\n",
      "|2020-07-06|255.338|275.558|253.208|274.316|  274.316|1.02849504E8|            0|         TSLA|        244.296| 0.04519923351282119|         241.732| 0.13479396859567275|          245.6| 0.12197885614006573|        237.12| 0.06784749396006254|            241.732| 0.13479396859567275|      8.6250496E7| 0.19245115993303968|[0.04519923351282...|  1.0|[16.1597044461472...|[0.80798522230736...|       0.0|\n",
      "|2020-07-15|  308.6|  310.0|  291.4|309.202|  309.202|    8.1839E7|            0|         TSLA|          311.2|-0.00835477506917...|          303.36|0.019257683215130023|          318.0|-0.02515723270440...|         286.2|0.018169047755635888|             303.36|0.019257683215130023|     1.17090496E8| -0.3010619751751671|[-0.0083547750691...|  1.0|[8.43327288191168...|[0.42166364409558...|       1.0|\n",
      "|2020-07-20|303.802|  330.0|  297.6|  328.6|    328.6|    8.5607E7|            0|         TSLA|         302.69|0.003673723951071054|         300.168|   0.094720312975776|        307.502| 0.07316370236237257|         298.0|-0.00134226139759...|            300.168|   0.094720312975776|          4.665E7|  0.8350911039657021|[0.00367372395107...|  1.0|[15.4450108656360...|[0.77225054328180...|       0.0|\n",
      "|2020-07-21|327.986|  335.0|  311.6|313.672|  313.672|    8.0536E7|            0|         TSLA|        303.802| 0.07960444738032728|           328.6|-0.04542911976848991|          330.0|0.015151515151515152|         297.6|  0.0470430097878772|              328.6|-0.04542911976848991|         8.5607E7|-0.05923581015571157|[0.07960444738032...|  1.0|[17.3235271826874...|[0.86617635913437...|       0.0|\n",
      "|2020-07-27|  287.0|309.588|  282.6| 307.92|   307.92| 8.0243504E7|            0|         TSLA|        283.202|0.013410937091020729|           283.4| 0.08652088941189696|          293.0| 0.05661437779970137|       273.308| 0.03399824269461532|              283.4| 0.08652088941189696|         9.6983E7| -0.1726023736118701|[0.01341093709102...|  1.0|[15.3712273104117...|[0.76856136552058...|       0.0|\n",
      "|2020-07-30|  297.6|302.648|  294.2|297.498|  297.498|    3.8105E7|            0|         TSLA|          300.2|-0.00866091271749...|         299.822|-0.00775128308453...|        306.962|-0.01405384146054...|         297.4|-0.01075985795267...|            299.822|-0.00775128308453...|        4.71345E7| -0.1915688084099757|[-0.0086609127174...|  1.0|[8.88971460344474...|[0.44448573017223...|       1.0|\n",
      "+----------+-------+-------+-------+-------+---------+------------+-------------+-------------+---------------+--------------------+----------------+--------------------+---------------+--------------------+--------------+--------------------+-------------------+--------------------+-----------------+--------------------+--------------------+-----+--------------------+--------------------+----------+\n",
      "only showing top 10 rows\n",
      "\n"
     ]
    }
   ],
   "source": [
    "cvModel = cv.setParallelism(4).fit(pipelineTrainingData)\n",
    "\n",
    "# Test cross validated model with test data\n",
    "cvPredictionDf = cvModel.transform(pipelineTestingData)\n",
    "cvPredictionDf.show(10)"
   ]
  },
  {
   "cell_type": "code",
   "execution_count": 74,
   "metadata": {},
   "outputs": [
    {
     "name": "stdout",
     "output_type": "stream",
     "text": [
      "0.751408197507191\n"
     ]
    }
   ],
   "source": [
    "auroc = evaluator.evaluate(cvPredictionDf)\n",
    "print(auroc)"
   ]
  },
  {
   "cell_type": "code",
   "execution_count": 75,
   "metadata": {},
   "outputs": [],
   "source": [
    "metrics = MulticlassClassificationEvaluator()\\\n",
    "  .setLabelCol(\"label\")"
   ]
  },
  {
   "cell_type": "code",
   "execution_count": 76,
   "metadata": {},
   "outputs": [
    {
     "data": {
      "text/plain": [
       "0.710455764075067"
      ]
     },
     "execution_count": 76,
     "metadata": {},
     "output_type": "execute_result"
    }
   ],
   "source": [
    "metrics.evaluate(cvPredictionDf, {metrics.metricName: \"accuracy\"})"
   ]
  },
  {
   "cell_type": "code",
   "execution_count": 77,
   "metadata": {},
   "outputs": [
    {
     "data": {
      "text/plain": [
       "0.7097672445808141"
      ]
     },
     "execution_count": 77,
     "metadata": {},
     "output_type": "execute_result"
    }
   ],
   "source": [
    "metrics.evaluate(cvPredictionDf, {metrics.metricName: \"f1\"})"
   ]
  },
  {
   "cell_type": "code",
   "execution_count": 78,
   "metadata": {},
   "outputs": [
    {
     "data": {
      "text/plain": [
       "0.7092438964657646"
      ]
     },
     "execution_count": 78,
     "metadata": {},
     "output_type": "execute_result"
    }
   ],
   "source": [
    "metrics.evaluate(cvPredictionDf, {metrics.metricName: \"weightedPrecision\"})"
   ]
  },
  {
   "cell_type": "code",
   "execution_count": 79,
   "metadata": {},
   "outputs": [
    {
     "data": {
      "text/plain": [
       "0.710455764075067"
      ]
     },
     "execution_count": 79,
     "metadata": {},
     "output_type": "execute_result"
    }
   ],
   "source": [
    "metrics.evaluate(cvPredictionDf, {metrics.metricName: \"weightedRecall\"})"
   ]
  },
  {
   "cell_type": "code",
   "execution_count": 80,
   "metadata": {},
   "outputs": [
    {
     "data": {
      "text/html": [
       "<div>\n",
       "<style scoped>\n",
       "    .dataframe tbody tr th:only-of-type {\n",
       "        vertical-align: middle;\n",
       "    }\n",
       "\n",
       "    .dataframe tbody tr th {\n",
       "        vertical-align: top;\n",
       "    }\n",
       "\n",
       "    .dataframe thead th {\n",
       "        text-align: right;\n",
       "    }\n",
       "</style>\n",
       "<table border=\"1\" class=\"dataframe\">\n",
       "  <thead>\n",
       "    <tr style=\"text-align: right;\">\n",
       "      <th></th>\n",
       "      <th>label</th>\n",
       "      <th>prediction</th>\n",
       "    </tr>\n",
       "  </thead>\n",
       "  <tbody>\n",
       "    <tr>\n",
       "      <th>0</th>\n",
       "      <td>1.0</td>\n",
       "      <td>1.0</td>\n",
       "    </tr>\n",
       "    <tr>\n",
       "      <th>1</th>\n",
       "      <td>1.0</td>\n",
       "      <td>1.0</td>\n",
       "    </tr>\n",
       "    <tr>\n",
       "      <th>2</th>\n",
       "      <td>1.0</td>\n",
       "      <td>1.0</td>\n",
       "    </tr>\n",
       "    <tr>\n",
       "      <th>3</th>\n",
       "      <td>1.0</td>\n",
       "      <td>0.0</td>\n",
       "    </tr>\n",
       "    <tr>\n",
       "      <th>4</th>\n",
       "      <td>1.0</td>\n",
       "      <td>0.0</td>\n",
       "    </tr>\n",
       "    <tr>\n",
       "      <th>...</th>\n",
       "      <td>...</td>\n",
       "      <td>...</td>\n",
       "    </tr>\n",
       "    <tr>\n",
       "      <th>368</th>\n",
       "      <td>0.0</td>\n",
       "      <td>0.0</td>\n",
       "    </tr>\n",
       "    <tr>\n",
       "      <th>369</th>\n",
       "      <td>0.0</td>\n",
       "      <td>0.0</td>\n",
       "    </tr>\n",
       "    <tr>\n",
       "      <th>370</th>\n",
       "      <td>0.0</td>\n",
       "      <td>0.0</td>\n",
       "    </tr>\n",
       "    <tr>\n",
       "      <th>371</th>\n",
       "      <td>0.0</td>\n",
       "      <td>0.0</td>\n",
       "    </tr>\n",
       "    <tr>\n",
       "      <th>372</th>\n",
       "      <td>0.0</td>\n",
       "      <td>0.0</td>\n",
       "    </tr>\n",
       "  </tbody>\n",
       "</table>\n",
       "<p>373 rows × 2 columns</p>\n",
       "</div>"
      ],
      "text/plain": [
       "     label  prediction\n",
       "0      1.0         1.0\n",
       "1      1.0         1.0\n",
       "2      1.0         1.0\n",
       "3      1.0         0.0\n",
       "4      1.0         0.0\n",
       "..     ...         ...\n",
       "368    0.0         0.0\n",
       "369    0.0         0.0\n",
       "370    0.0         0.0\n",
       "371    0.0         0.0\n",
       "372    0.0         0.0\n",
       "\n",
       "[373 rows x 2 columns]"
      ]
     },
     "execution_count": 80,
     "metadata": {},
     "output_type": "execute_result"
    }
   ],
   "source": [
    "trueandpredicted = cvPredictionDf.select(['label', 'prediction']).toPandas()\n",
    "trueandpredicted"
   ]
  },
  {
   "cell_type": "code",
   "execution_count": 81,
   "metadata": {},
   "outputs": [
    {
     "name": "stdout",
     "output_type": "stream",
     "text": [
      "Predicted  0.0  1.0\n",
      "Actual             \n",
      "0.0        172   52\n",
      "1.0         56   93\n"
     ]
    }
   ],
   "source": [
    "confusion_matrix = pd.crosstab(trueandpredicted['label'], trueandpredicted['prediction'], rownames=['Actual'], colnames=['Predicted'])\n",
    "print(confusion_matrix)"
   ]
  },
  {
   "cell_type": "code",
   "execution_count": 98,
   "metadata": {},
   "outputs": [
    {
     "data": {
      "text/plain": [
       "RandomForestClassificationModel: uid=RandomForestClassifier_ef5f28adfa54, numTrees=20, numClasses=2, numFeatures=6"
      ]
     },
     "execution_count": 98,
     "metadata": {},
     "output_type": "execute_result"
    }
   ],
   "source": [
    "#extracting parameters for best CV model\n",
    "cvModel.bestModel.stages[-1]"
   ]
  }
 ],
 "metadata": {
  "kernelspec": {
   "display_name": "DS 5110 Spark 3.1",
   "language": "python",
   "name": "ds5110_spark3.1"
  },
  "language_info": {
   "codemirror_mode": {
    "name": "ipython",
    "version": 3
   },
   "file_extension": ".py",
   "mimetype": "text/x-python",
   "name": "python",
   "nbconvert_exporter": "python",
   "pygments_lexer": "ipython3",
   "version": "3.7.10"
  }
 },
 "nbformat": 4,
 "nbformat_minor": 4
}
